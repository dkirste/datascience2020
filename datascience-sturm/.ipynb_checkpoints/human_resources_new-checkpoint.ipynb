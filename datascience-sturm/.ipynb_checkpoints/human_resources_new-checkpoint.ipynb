{
 "cells": [
  {
   "cell_type": "markdown",
   "metadata": {},
   "source": [
    "Imports"
   ]
  },
  {
   "cell_type": "code",
   "execution_count": 73,
   "metadata": {},
   "outputs": [],
   "source": [
    "# Imports for pyspark\n",
    "from pyspark.ml.classification import LinearSVC, DecisionTreeClassifier\n",
    "from pyspark.ml.evaluation import BinaryClassificationEvaluator, MulticlassClassificationEvaluator\n",
    "from pyspark.ml.feature import IndexToString, StringIndexer, VectorAssembler, VectorIndexer\n",
    "from pyspark.ml.pipeline import Pipeline\n",
    "from pyspark.ml.tuning import CrossValidator, ParamGridBuilder\n",
    "from pyspark.mllib.evaluation import MulticlassMetrics\n",
    "from pyspark.sql.session import SparkSession\n",
    "from pyspark.sql.types import BooleanType\n",
    "from pyspark.sql.functions import col, unix_timestamp, to_date, datediff, expr\n",
    "from helpers.helper_functions import translate_to_file_string\n",
    "\n",
    "# Import for seaborn\n",
    "import seaborn as sbs\n",
    "\n",
    "# Imports for mathlib\n",
    "%matplotlib inline\n",
    "import seaborn as sbs\n",
    "import matplotlib as mpl\n",
    "import matplotlib.pyplot as plt\n",
    "mpl.rc('axes', labelsize=14)\n",
    "mpl.rc('xtick', labelsize=12)\n",
    "mpl.rc('ytick', labelsize=12)\n",
    "\n"
   ]
  },
  {
   "cell_type": "markdown",
   "metadata": {},
   "source": [
    "Creating Spark Context"
   ]
  },
  {
   "cell_type": "code",
   "execution_count": 74,
   "metadata": {},
   "outputs": [
    {
     "data": {
      "text/plain": [
       "DataFrame[key: string, value: string]"
      ]
     },
     "execution_count": 74,
     "metadata": {},
     "output_type": "execute_result"
    }
   ],
   "source": [
    "spark = (SparkSession\n",
    "       .builder\n",
    "       .appName(\"HumanResources\")\n",
    "       .getOrCreate())\n",
    "spark.sql(\"set spark.sql.legacy.timeParserPolicy=LEGACY\")"
   ]
  },
  {
   "cell_type": "markdown",
   "metadata": {},
   "source": [
    "Setting input file"
   ]
  },
  {
   "cell_type": "code",
   "execution_count": 75,
   "metadata": {},
   "outputs": [
    {
     "name": "stdout",
     "output_type": "stream",
     "text": [
      "root\n",
      " |-- EmpLastname: string (nullable = true)\n",
      " |-- EmpFirstname: string (nullable = true)\n",
      " |-- EmpID: integer (nullable = true)\n",
      " |-- MarriedID: integer (nullable = true)\n",
      " |-- MaritalStatusID: integer (nullable = true)\n",
      " |-- GenderID: integer (nullable = true)\n",
      " |-- EmpStatusID: integer (nullable = true)\n",
      " |-- DeptID: integer (nullable = true)\n",
      " |-- PerfScoreID: integer (nullable = true)\n",
      " |-- FromDiversityJobFairID: integer (nullable = true)\n",
      " |-- Salary: integer (nullable = true)\n",
      " |-- Termd: integer (nullable = true)\n",
      " |-- PositionID: integer (nullable = true)\n",
      " |-- Position: string (nullable = true)\n",
      " |-- State: string (nullable = true)\n",
      " |-- Zip: integer (nullable = true)\n",
      " |-- DOB: string (nullable = true)\n",
      " |-- Sex: string (nullable = true)\n",
      " |-- MaritalDesc: string (nullable = true)\n",
      " |-- CitizenDesc: string (nullable = true)\n",
      " |-- HispanicLatino: string (nullable = true)\n",
      " |-- RaceDesc: string (nullable = true)\n",
      " |-- DateofHire: string (nullable = true)\n",
      " |-- DateofTermination: string (nullable = true)\n",
      " |-- TermReason: string (nullable = true)\n",
      " |-- EmploymentStatus: string (nullable = true)\n",
      " |-- Department: string (nullable = true)\n",
      " |-- ManagerName: string (nullable = true)\n",
      " |-- ManagerID: integer (nullable = true)\n",
      " |-- RecruitmentSource: string (nullable = true)\n",
      " |-- PerformanceScore: string (nullable = true)\n",
      " |-- EngagementSurvey: double (nullable = true)\n",
      " |-- EmpSatisfaction: integer (nullable = true)\n",
      " |-- SpecialProjectsCount: integer (nullable = true)\n",
      " |-- LastPerformanceReview_Date: string (nullable = true)\n",
      " |-- DaysLateLast30: integer (nullable = true)\n",
      " |-- Absences: integer (nullable = true)\n",
      "\n",
      "None\n"
     ]
    }
   ],
   "source": [
    "inputFile = translate_to_file_string(\"../data/HRDataset_2.csv\")\n",
    "# load data file.\n",
    "# create a DataFrame using an ifered Schema\n",
    "df = spark.read.option(\"header\", \"true\") \\\n",
    "    .option(\"inferSchema\", \"true\") \\\n",
    "    .option(\"delimiter\", \",\") \\\n",
    "    .csv(inputFile) \\\n",
    "    .withColumnRenamed(\"_c0\", \"EmpLastname\")\\\n",
    "    .withColumnRenamed(\"_c1\", \"EmpFirstname\")\\\n",
    "    .withColumnRenamed(\"_c2\", \"EmpID\")\\\n",
    "    .withColumnRenamed(\"_c3\", \"MarriedID\")\\\n",
    "    .withColumnRenamed(\"_c4\", \"MaritalStatusID\")\\\n",
    "    .withColumnRenamed(\"_c5\", \"GenderID\")\\\n",
    "    .withColumnRenamed(\"_c6\", \"EmpStatusID\")\\\n",
    "    .withColumnRenamed(\"_c7\", \"DeptID\")\\\n",
    "    .withColumnRenamed(\"_c8\", \"PerfScoreID\")\\\n",
    "    .withColumnRenamed(\"_c9\", \"FromDiversityJobFairID\")\\\n",
    "    .withColumnRenamed(\"_c10\", \"Salary\")\\\n",
    "    .withColumnRenamed(\"_c11\", \"Termd\")\\\n",
    "    .withColumnRenamed(\"_c12\", \"PositionID\")\\\n",
    "    .withColumnRenamed(\"_c13\", \"Position\")\\\n",
    "    .withColumnRenamed(\"_c14\", \"State\")\\\n",
    "    .withColumnRenamed(\"_c15\", \"Zip\")\\\n",
    "    .withColumnRenamed(\"_c16\", \"DOB\")\\\n",
    "    .withColumnRenamed(\"_c17\", \"Sex\")\\\n",
    "    .withColumnRenamed(\"_c18\", \"MaritalDesc\")\\\n",
    "    .withColumnRenamed(\"_c19\", \"CitizenDesc\")\\\n",
    "    .withColumnRenamed(\"_c20\", \"HispanicLatino\")\\\n",
    "    .withColumnRenamed(\"_c21\", \"RaceDesc\")\\\n",
    "    .withColumnRenamed(\"_c22\", \"DateofHire\")\\\n",
    "    .withColumnRenamed(\"_c23\", \"DateofTermination\")\\\n",
    "    .withColumnRenamed(\"_c24\", \"TermReason\")\\\n",
    "    .withColumnRenamed(\"_c25\", \"EmploymentStatus\")\\\n",
    "    .withColumnRenamed(\"_c26\", \"Department\")\\\n",
    "    .withColumnRenamed(\"_c27\", \"ManagerName\")\\\n",
    "    .withColumnRenamed(\"_c28\", \"ManagerID\")\\\n",
    "    .withColumnRenamed(\"_c29\", \"RecruitmentSource\")\\\n",
    "    .withColumnRenamed(\"_c30\", \"PerformanceScore\")\\\n",
    "    .withColumnRenamed(\"_c31\", \"EngagementSurvey\")\\\n",
    "    .withColumnRenamed(\"_c32\", \"EmpSatisfaction\")\\\n",
    "    .withColumnRenamed(\"_c33\", \"SpecialProjectsCount\")\\\n",
    "    .withColumnRenamed(\"_c34\", \"LastPerformanceReview_Date\")\\\n",
    "    .withColumnRenamed(\"_c35\", \"DaysLateLast30\")\\\n",
    "    .withColumnRenamed(\"_c36\", \"Absences\")\n",
    "\n",
    "print(df.printSchema())\n",
    "\n"
   ]
  },
  {
   "cell_type": "markdown",
   "metadata": {},
   "source": [
    "This is an initial analysis of the HR dataset:\n",
    "Creation of a barplot consisting of 2 axes: (x) recruitment score with a \"hue\"/variation of different performance scores categories (y) percentage. The goal of this graph is the visualization in how good a employee performs in relation to from which source he has been recruited."
   ]
  },
  {
   "cell_type": "code",
   "execution_count": 76,
   "metadata": {},
   "outputs": [
    {
     "data": {
      "text/plain": [
       "(array([0, 1, 2, 3, 4, 5, 6, 7, 8]),\n",
       " [Text(0, 0, 'Website'),\n",
       "  Text(1, 0, 'CareerBuilder'),\n",
       "  Text(2, 0, 'Diversity Job Fair'),\n",
       "  Text(3, 0, 'LinkedIn'),\n",
       "  Text(4, 0, 'Employee Referral'),\n",
       "  Text(5, 0, 'Indeed'),\n",
       "  Text(6, 0, 'Google Search'),\n",
       "  Text(7, 0, 'Other'),\n",
       "  Text(8, 0, 'On-line Web application')])"
      ]
     },
     "execution_count": 76,
     "metadata": {},
     "output_type": "execute_result"
    },
    {
     "data": {
      "image/png": "[encoded data removed]",
      "text/plain": [
       "<Figure size 1080x360 with 1 Axes>"
      ]
     },
     "metadata": {
      "needs_background": "light"
     },
     "output_type": "display_data"
    }
   ],
   "source": [
    "plt.figure(figsize=(15,5))\n",
    "dfPandas= df.toPandas()\n",
    "perfscore_percentage = (dfPandas.groupby(['RecruitmentSource'])['PerformanceScore']\n",
    "                     .value_counts(normalize=True)\n",
    "                     .rename('percentage')\n",
    "                     .mul(100)\n",
    "                     .reset_index()\n",
    "                     .sort_values('PerformanceScore'))\n",
    "sbs.barplot(x=\"RecruitmentSource\", y=\"percentage\", hue=\"PerformanceScore\", data=perfscore_percentage)\n",
    "plt.xticks(rotation = 30)"
   ]
  },
  {
   "cell_type": "markdown",
   "metadata": {},
   "source": [
    "Preprocessing"
   ]
  },
  {
   "cell_type": "code",
   "execution_count": 77,
   "metadata": {},
   "outputs": [
    {
     "name": "stdout",
     "output_type": "stream",
     "text": [
      "root\n",
      " |-- EmpLastname: string (nullable = true)\n",
      " |-- EmpFirstname: string (nullable = true)\n",
      " |-- EmpID: integer (nullable = true)\n",
      " |-- MarriedID: integer (nullable = true)\n",
      " |-- MaritalStatusID: integer (nullable = true)\n",
      " |-- GenderID: integer (nullable = true)\n",
      " |-- EmpStatusID: integer (nullable = true)\n",
      " |-- DeptID: integer (nullable = true)\n",
      " |-- PerfScoreID: integer (nullable = true)\n",
      " |-- FromDiversityJobFairID: integer (nullable = true)\n",
      " |-- Salary: integer (nullable = true)\n",
      " |-- Termd: integer (nullable = true)\n",
      " |-- PositionID: integer (nullable = true)\n",
      " |-- Position: string (nullable = true)\n",
      " |-- State: string (nullable = true)\n",
      " |-- Zip: integer (nullable = true)\n",
      " |-- DOB: string (nullable = true)\n",
      " |-- Sex: string (nullable = true)\n",
      " |-- MaritalDesc: string (nullable = true)\n",
      " |-- CitizenDesc: string (nullable = true)\n",
      " |-- HispanicLatino: string (nullable = true)\n",
      " |-- RaceDesc: string (nullable = true)\n",
      " |-- DateofHire: string (nullable = true)\n",
      " |-- DateofTermination: string (nullable = true)\n",
      " |-- TermReason: string (nullable = true)\n",
      " |-- EmploymentStatus: string (nullable = true)\n",
      " |-- Department: string (nullable = true)\n",
      " |-- ManagerName: string (nullable = true)\n",
      " |-- ManagerID: integer (nullable = true)\n",
      " |-- RecruitmentSource: string (nullable = true)\n",
      " |-- PerformanceScore: string (nullable = true)\n",
      " |-- EngagementSurvey: double (nullable = true)\n",
      " |-- EmpSatisfaction: integer (nullable = true)\n",
      " |-- SpecialProjectsCount: integer (nullable = true)\n",
      " |-- LastPerformanceReview_Date: string (nullable = true)\n",
      " |-- DaysLateLast30: integer (nullable = true)\n",
      " |-- Absences: integer (nullable = true)\n",
      "\n",
      "None\n",
      "root\n",
      " |-- EmpLastname: string (nullable = true)\n",
      " |-- EmpFirstname: string (nullable = true)\n",
      " |-- EmpID: integer (nullable = true)\n",
      " |-- MarriedID: integer (nullable = true)\n",
      " |-- MaritalStatusID: integer (nullable = true)\n",
      " |-- GenderID: integer (nullable = true)\n",
      " |-- EmpStatusID: integer (nullable = true)\n",
      " |-- DeptID: integer (nullable = true)\n",
      " |-- PerfScoreID: integer (nullable = true)\n",
      " |-- FromDiversityJobFairID: integer (nullable = true)\n",
      " |-- Salary: integer (nullable = true)\n",
      " |-- Termd: integer (nullable = true)\n",
      " |-- PositionID: integer (nullable = true)\n",
      " |-- Position: string (nullable = true)\n",
      " |-- State: string (nullable = true)\n",
      " |-- Zip: integer (nullable = true)\n",
      " |-- DOB: string (nullable = true)\n",
      " |-- Sex: string (nullable = true)\n",
      " |-- MaritalDesc: string (nullable = true)\n",
      " |-- CitizenDesc: string (nullable = true)\n",
      " |-- HispanicLatino: string (nullable = true)\n",
      " |-- RaceDesc: string (nullable = true)\n",
      " |-- DateofHire: string (nullable = true)\n",
      " |-- DateofTermination: string (nullable = false)\n",
      " |-- TermReason: string (nullable = false)\n",
      " |-- EmploymentStatus: string (nullable = true)\n",
      " |-- Department: string (nullable = true)\n",
      " |-- ManagerName: string (nullable = true)\n",
      " |-- ManagerID: integer (nullable = false)\n",
      " |-- RecruitmentSource: string (nullable = true)\n",
      " |-- PerformanceScore: string (nullable = true)\n",
      " |-- EngagementSurvey: double (nullable = true)\n",
      " |-- EmpSatisfaction: integer (nullable = true)\n",
      " |-- SpecialProjectsCount: integer (nullable = true)\n",
      " |-- LastPerformanceReview_Date: string (nullable = false)\n",
      " |-- DaysLateLast30: integer (nullable = false)\n",
      " |-- Absences: integer (nullable = true)\n",
      "\n",
      "None\n",
      "root\n",
      " |-- EmpLastname: string (nullable = true)\n",
      " |-- EmpFirstname: string (nullable = true)\n",
      " |-- EmpID: integer (nullable = true)\n",
      " |-- MarriedID: integer (nullable = true)\n",
      " |-- MaritalStatusID: integer (nullable = true)\n",
      " |-- GenderID: integer (nullable = true)\n",
      " |-- EmpStatusID: integer (nullable = true)\n",
      " |-- DeptID: integer (nullable = true)\n",
      " |-- PerfScoreID: integer (nullable = true)\n",
      " |-- FromDiversityJobFairID: integer (nullable = true)\n",
      " |-- Salary: integer (nullable = true)\n",
      " |-- Termd: integer (nullable = true)\n",
      " |-- PositionID: integer (nullable = true)\n",
      " |-- Position: string (nullable = true)\n",
      " |-- State: string (nullable = true)\n",
      " |-- Zip: integer (nullable = true)\n",
      " |-- DOB: long (nullable = true)\n",
      " |-- Sex: string (nullable = true)\n",
      " |-- MaritalDesc: string (nullable = true)\n",
      " |-- CitizenDesc: string (nullable = true)\n",
      " |-- HispanicLatino: string (nullable = true)\n",
      " |-- RaceDesc: string (nullable = true)\n",
      " |-- DateofHire: long (nullable = true)\n",
      " |-- DateofTermination: long (nullable = true)\n",
      " |-- TermReason: string (nullable = false)\n",
      " |-- EmploymentStatus: string (nullable = true)\n",
      " |-- Department: string (nullable = true)\n",
      " |-- ManagerName: string (nullable = true)\n",
      " |-- ManagerID: integer (nullable = false)\n",
      " |-- RecruitmentSource: string (nullable = true)\n",
      " |-- PerformanceScore: string (nullable = true)\n",
      " |-- EngagementSurvey: double (nullable = true)\n",
      " |-- EmpSatisfaction: integer (nullable = true)\n",
      " |-- SpecialProjectsCount: integer (nullable = true)\n",
      " |-- LastPerformanceReview_Date: long (nullable = true)\n",
      " |-- DaysLateLast30: integer (nullable = false)\n",
      " |-- Absences: integer (nullable = true)\n",
      " |-- DaysWorked: double (nullable = true)\n",
      "\n",
      "None\n"
     ]
    }
   ],
   "source": [
    "# Fill null values\n",
    "print(df.printSchema())\n",
    "df = df.na.fill( {'TermReason': 'Unknown', 'ManagerID': 0, 'DaysLateLast30': 0, 'DateofTermination': '1/01/2021', 'LastPerformanceReview_Date': '1/01/2021'} )\n",
    "print(df.printSchema())\n",
    "# Converte date-strings to dates\n",
    "df = df.withColumn('DateofHire', unix_timestamp(col('DateofHire'), 'M/dd/yyyy'))\n",
    "df = df.withColumn('DOB', unix_timestamp(col('DOB'), 'MM/dd/yy'))\n",
    "df = df.withColumn('DateofTermination', unix_timestamp(col('DateofTermination'), 'M/dd/yyyy'))\n",
    "df = df.withColumn('LastPerformanceReview_Date', unix_timestamp(col('LastPerformanceReview_Date'), 'M/dd/yyyy'))\n",
    "# Add new column for days worked in company\n",
    "df = df.withColumn(\"DaysWorked\", ((col(\"DateofTermination\") - col(\"DateofHire\"))/86400))\n",
    "\n",
    "# Manmeet cleaning sex and payrate\n",
    "\n",
    "# Print new Schema\n",
    "print(df.printSchema())"
   ]
  },
  {
   "cell_type": "code",
   "execution_count": 78,
   "metadata": {},
   "outputs": [
    {
     "data": {
      "image/png": "[encoded data removed]",
      "text/plain": [
       "<Figure size 432x288 with 1 Axes>"
      ]
     },
     "metadata": {
      "needs_background": "light"
     },
     "output_type": "display_data"
    }
   ],
   "source": [
    "dfPandas = df.toPandas()\n",
    "scatter = plt.scatter(dfPandas[\"DaysWorked\"], dfPandas[\"Salary\"],c=dfPandas['EmpStatusID'])\n",
    "plt.xlabel(\"DaysWorked\")\n",
    "plt.ylabel(\"Salary\")\n",
    "plt.legend(handles=scatter.legend_elements()[0],labels=['Active','Future Start','Leave of Absence','Terminated for Cause','Voluntarily Terminated'])\n",
    "plt.show()"
   ]
  },
  {
   "cell_type": "markdown",
   "metadata": {},
   "source": [
    "Rouven: Scatter plot "
   ]
  },
  {
   "cell_type": "code",
   "execution_count": 79,
   "metadata": {},
   "outputs": [],
   "source": [
    "labelIndexer = StringIndexer().setInputCol(\"Termd\").setOutputCol(\"label\").fit(df)\n",
    "\n",
    "empLastnameIndexer = StringIndexer().setInputCol(\"EmpLastname\").setOutputCol(\"EmpLastname-num\").fit(df)\n",
    "empFirstnameIndexer = StringIndexer().setInputCol(\"EmpFirstname\").setOutputCol(\"EmpFirstname-num\").fit(df)\n",
    "positionIndexer = StringIndexer().setInputCol(\"Position\").setOutputCol(\"Position-num\").fit(df)\n",
    "stateIdIndexer = StringIndexer().setInputCol(\"State\").setOutputCol(\"State-num\").fit(df)\n",
    "sexIndexer = StringIndexer().setInputCol(\"Sex\").setOutputCol(\"Sex-num\").fit(df)\n",
    "maritalDescIndexer = StringIndexer().setInputCol(\"MaritalDesc\").setOutputCol(\"MaritalDesc-num\").fit(df)\n",
    "citizenDescIndexer = StringIndexer().setInputCol(\"CitizenDesc\").setOutputCol(\"CitizenDesc-num\").fit(df)\n",
    "hispanicLatinoIndexer = StringIndexer().setInputCol(\"HispanicLatino\").setOutputCol(\"HispanicLatino-num\").fit(df)\n",
    "raceDescIndexer = StringIndexer().setInputCol(\"RaceDesc\").setOutputCol(\"RaceDesc-num\").fit(df)\n",
    "termReasonIndexer = StringIndexer().setInputCol(\"TermReason\").setOutputCol(\"TermReason-num\").fit(df)\n",
    "empStatusIndexer = StringIndexer().setInputCol(\"EmploymentStatus\").setOutputCol(\"EmploymentStatus-num\").fit(df)\n",
    "departmentIndexer = StringIndexer().setInputCol(\"Department\").setOutputCol(\"Department-num\").fit(df)\n",
    "managerNameIndexer = StringIndexer().setInputCol(\"ManagerName\").setOutputCol(\"ManagerName-num\").fit(df)\n",
    "recruitSourceIndexer = StringIndexer().setInputCol(\"RecruitmentSource\").setOutputCol(\"RecruitmentSource-num\").fit(df)\n",
    "performanceScoreIndexer = StringIndexer().setInputCol(\"PerformanceScore\").setOutputCol(\"PerformanceScore-num\").fit(df)"
   ]
  },
  {
   "cell_type": "code",
   "execution_count": 80,
   "metadata": {},
   "outputs": [
    {
     "name": "stdout",
     "output_type": "stream",
     "text": [
      "+-----------+------------+-----+---------+---------------+--------+-----------+------+-----------+----------------------+------+-----+----------+--------------------+-----+-----+----------+---+-----------+-------------------+--------------+--------------------+----------+-----------------+-----------------+--------------------+--------------------+---------------+---------+--------------------+----------------+----------------+---------------+--------------------+--------------------------+--------------+--------+------------------+\n",
      "|EmpLastname|EmpFirstname|EmpID|MarriedID|MaritalStatusID|GenderID|EmpStatusID|DeptID|PerfScoreID|FromDiversityJobFairID|Salary|Termd|PositionID|            Position|State|  Zip|       DOB|Sex|MaritalDesc|        CitizenDesc|HispanicLatino|            RaceDesc|DateofHire|DateofTermination|       TermReason|    EmploymentStatus|          Department|    ManagerName|ManagerID|   RecruitmentSource|PerformanceScore|EngagementSurvey|EmpSatisfaction|SpecialProjectsCount|LastPerformanceReview_Date|DaysLateLast30|Absences|        DaysWorked|\n",
      "+-----------+------------+-----+---------+---------------+--------+-----------+------+-----------+----------------------+------+-----+----------+--------------------+-----+-----+----------+---+-----------+-------------------+--------------+--------------------+----------+-----------------+-----------------+--------------------+--------------------+---------------+---------+--------------------+----------------+----------------+---------------+--------------------+--------------------------+--------------+--------+------------------+\n",
      "|   Adinolfi|   Wilson  K|10026|        0|              0|       1|          1|     5|          4|                     0| 62506|    0|        19|Production Techni...|   MA| 1960| 426636000| M |     Single|         US Citizen|            No|               White|1309816800|       1609455600|N/A-StillEmployed|              Active|   Production       | Michael Albert|       22|            LinkedIn|         Exceeds|             4.6|              5|                   0|                1547679600|             0|       1|3468.0416666666665|\n",
      "|   Ait Sidi| Karthikeyan|10084|        1|              1|       1|          5|     3|          3|                     0|104437|    1|        27|             Sr. DBA|   MA| 2148| 168476400| M |    Married|         US Citizen|            No|               White|1427666400|       1466028000|    career change|Voluntarily Termi...|               IT/IS|     Simon Roup|        4|              Indeed|     Fully Meets|            4.96|              3|                   6|                1456268400|             0|      17|             444.0|\n",
      "| Akinkuolie|       Sarah|10196|        1|              1|       0|          5|     5|          3|                     0| 64955|    1|        20|Production Techni...|   MA| 1810| 590623200|  F|    Married|         US Citizen|            No|               White|1309816800|       1348437600|            hours|Voluntarily Termi...|   Production       | Kissy Sullivan|       20|            LinkedIn|     Fully Meets|            3.02|              3|                   0|                1337032800|             0|       3|             447.0|\n",
      "|     Alagbe|       Trina|10088|        1|              1|       0|          1|     5|          3|                     0| 64991|    0|        19|Production Techni...|   MA| 1886| 591318000|  F|    Married|         US Citizen|            No|               White|1199660400|       1609455600|N/A-StillEmployed|              Active|   Production       |   Elijiah Gray|       16|              Indeed|     Fully Meets|            4.84|              5|                   0|                1546470000|             0|      15|            4743.0|\n",
      "|   Anderson|       Carol|10069|        0|              2|       0|          5|     5|          3|                     0| 50825|    1|        19|Production Techni...|   MA| 2169| 621208800|  F|   Divorced|         US Citizen|            No|               White|1310335200|       1473112800| return to school|Voluntarily Termi...|   Production       | Webster Butler|       39|       Google Search|     Fully Meets|             5.0|              4|                   0|                1454281200|             0|       2|            1884.0|\n",
      "|   Anderson|       Linda|10002|        0|              0|       0|          1|     5|          4|                     0| 57568|    0|        19|Production Techni...|   MA| 1844| 233103600|  F|     Single|         US Citizen|            No|               White|1326063600|       1609455600|N/A-StillEmployed|              Active|   Production       |       Amy Dunn|       11|            LinkedIn|         Exceeds|             5.0|              5|                   0|                1546815600|             0|      15|            3280.0|\n",
      "|   Andreola|       Colby|10194|        0|              0|       0|          1|     4|          3|                     0| 95660|    0|        24|   Software Engineer|   MA| 2110| 296348400|  F|     Single|         US Citizen|            No|               White|1415574000|       1609455600|N/A-StillEmployed|              Active|Software Engineering|Alex Sweetwater|       10|            LinkedIn|     Fully Meets|            3.04|              3|                   4|                1546383600|             0|      19|            2244.0|\n",
      "|     Athwal|         Sam|10062|        0|              4|       1|          1|     5|          3|                     0| 59365|    0|        19|Production Techni...|   MA| 2199| 414370800| M |    Widowed|         US Citizen|            No|               White|1380492000|       1609455600|N/A-StillEmployed|              Active|   Production       |  Ketsia Liebig|       19|   Employee Referral|     Fully Meets|             5.0|              4|                   0|                1551049200|             0|      19|2650.0416666666665|\n",
      "|  Bachiochi|       Linda|10114|        0|              0|       0|          3|     5|          3|                     1| 47837|    0|        19|Production Techni...|   MA| 1902|   3538800|  F|     Single|         US Citizen|            No|Black or African ...|1246831200|       1609455600|N/A-StillEmployed|              Active|   Production       | Brannon Miller|       12|  Diversity Job Fair|     Fully Meets|            4.46|              3|                   0|                1548370800|             0|       4| 4197.041666666667|\n",
      "|     Bacong|   Alejandro|10250|        0|              2|       1|          1|     3|          3|                     0| 50178|    0|        14|          IT Support|   MA| 1886| 568508400| M |   Divorced|         US Citizen|            No|               White|1420412400|       1609455600|N/A-StillEmployed|              Active|               IT/IS|   Peter Monroe|        7|              Indeed|     Fully Meets|             5.0|              5|                   6|                1550444400|             0|      16|            2188.0|\n",
      "|  Baczenski|     Rachael|10252|        1|              1|       0|          5|     5|          3|                     1| 54670|    1|        19|Production Techni...|   MA| 1902| 127177200|  F|    Married|         US Citizen|           Yes|Black or African ...|1294614000|       1484175600| Another position|Voluntarily Termi...|   Production       |  David Stanley|       14|  Diversity Job Fair|     Fully Meets|             4.2|              4|                   0|                1454108400|             0|      12|            2194.0|\n",
      "|    Barbara|      Thomas|10242|        1|              1|       1|          5|     5|          3|                     1| 47211|    1|        19|Production Techni...|   MA| 2062| 130633200| M |    Married|         US Citizen|           Yes|Black or African ...|1333317600|       1474236000|          unhappy|Voluntarily Termi...|   Production       | Kissy Sullivan|       20|  Diversity Job Fair|     Fully Meets|             4.2|              3|                   0|                1462485600|             0|      15|            1631.0|\n",
      "|   Barbossa|      Hector|10012|        0|              2|       1|          1|     3|          4|                     1| 92328|    0|         9|        Data Analyst|   TX|78230| 583970400| M |   Divorced|         US Citizen|            No|Black or African ...|1415574000|       1609455600|N/A-StillEmployed|              Active|               IT/IS|     Simon Roup|        4|  Diversity Job Fair|         Exceeds|            4.28|              4|                   5|                1551049200|             0|       9|            2244.0|\n",
      "|     Barone|Francesco  A|10265|        0|              0|       1|          1|     5|          3|                     0| 58709|    0|        19|Production Techni...|   MA| 1810| 427500000| M |     Single|         US Citizen|            No|   Two or more races|1329692400|       1609455600|N/A-StillEmployed|              Active|   Production       |  Kelley Spirea|       18|       Google Search|     Fully Meets|             4.6|              4|                   0|                1550098800|             0|       7|            3238.0|\n",
      "|     Barton|       Nader|10066|        0|              2|       1|          5|     5|          3|                     0| 52505|    1|        19|Production Techni...|   MA| 2747| 237769200| M |   Divorced|         US Citizen|            No|               White|1348437600|       1491429600| Another position|Voluntarily Termi...|   Production       | Michael Albert|       22|On-line Web appli...|     Fully Meets|             5.0|              5|                   0|                1488409200|             0|       1|            1655.0|\n",
      "|      Bates|      Norman|10061|        0|              0|       1|          4|     5|          3|                     0| 57834|    1|        19|Production Techni...|   MA| 2050| 372207600| M |     Single|         US Citizen|            No|               White|1298242800|       1501797600|       attendance|Terminated for Cause|   Production       |  Kelley Spirea|       18|       Google Search|     Fully Meets|             5.0|              4|                   0|                1491343200|             0|      20|2355.9583333333335|\n",
      "|       Beak|    Kimberly|10023|        1|              1|       0|          2|     5|          4|                     0| 70131|    0|        20|Production Techni...|   MA| 2145|-117075600|  F|    Married|         US Citizen|            No|               White|1469052000|       1609455600|N/A-StillEmployed|              Active|   Production       |  Kelley Spirea|       18|   Employee Referral|         Exceeds|             4.4|              3|                   0|                1547420400|             0|      16|1625.0416666666667|\n",
      "|   Beatrice|    Courtney|10055|        0|              0|       0|          1|     5|          3|                     0| 59026|    0|        19|Production Techni...|   MA| 1915|  25830000|  F|     Single|Eligible NonCitizen|            No|               White|1301868000|       1609455600|N/A-StillEmployed|              Active|   Production       |   Elijiah Gray|       16|       Google Search|     Fully Meets|             5.0|              5|                   0|                1547420400|             0|      12|3560.0416666666665|\n",
      "|     Becker|       Renee|10245|        0|              0|       0|          4|     3|          3|                     0|110000|    1|         8|Database Administ...|   MA| 2026| 512949600|  F|     Single|         US Citizen|           Yes|               White|1404684000|       1442008800|      performance|Terminated for Cause|               IT/IS|     Simon Roup|        4|       Google Search|     Fully Meets|             4.5|              4|                   5|                1421276400|             0|       8|             432.0|\n",
      "|     Becker|       Scott|10277|        0|              0|       1|          3|     5|          3|                     0| 53250|    0|        19|Production Techni...|   MA| 2452| 292201200| M |     Single|         US Citizen|            No|               Asian|1373234400|       1609455600|N/A-StillEmployed|              Active|   Production       | Webster Butler|        0|            LinkedIn|     Fully Meets|             4.2|              4|                   0|                1547161200|             0|      13|2734.0416666666665|\n",
      "+-----------+------------+-----+---------+---------------+--------+-----------+------+-----------+----------------------+------+-----+----------+--------------------+-----+-----+----------+---+-----------+-------------------+--------------+--------------------+----------+-----------------+-----------------+--------------------+--------------------+---------------+---------+--------------------+----------------+----------------+---------------+--------------------+--------------------------+--------------+--------+------------------+\n",
      "only showing top 20 rows\n",
      "\n",
      "None\n"
     ]
    }
   ],
   "source": [
    "print(df.show())\n",
    "featureCols = df.columns.copy()\n",
    "featureCols.remove(\"EmpLastname\")\n",
    "featureCols.remove(\"EmpFirstname\")\n",
    "featureCols.remove(\"Position\")\n",
    "featureCols.remove(\"State\")\n",
    "featureCols.remove(\"Sex\")\n",
    "featureCols.remove(\"MaritalDesc\")\n",
    "featureCols.remove(\"CitizenDesc\")\n",
    "featureCols.remove(\"HispanicLatino\")\n",
    "featureCols.remove(\"RaceDesc\")\n",
    "featureCols.remove(\"TermReason\")\n",
    "featureCols.remove(\"EmploymentStatus\")\n",
    "featureCols.remove(\"Department\")\n",
    "featureCols.remove(\"ManagerName\")\n",
    "featureCols.remove(\"RecruitmentSource\")\n",
    "featureCols.remove(\"PerformanceScore\")\n",
    "featureCols = featureCols +[\"EmpLastname-num\", \"EmpFirstname-num\",\"Position-num\",\"State-num\",\"Sex-num\", \"MaritalDesc-num\", \"CitizenDesc-num\", \"HispanicLatino-num\", \"RaceDesc-num\", \"TermReason-num\", \"EmploymentStatus-num\", \"Department-num\", \"ManagerName-num\", \"RecruitmentSource-num\", \"PerformanceScore-num\"]"
   ]
  },
  {
   "cell_type": "code",
   "execution_count": 81,
   "metadata": {},
   "outputs": [
    {
     "name": "stdout",
     "output_type": "stream",
     "text": [
      "root\n",
      " |-- EmpLastname: string (nullable = true)\n",
      " |-- EmpFirstname: string (nullable = true)\n",
      " |-- EmpID: integer (nullable = true)\n",
      " |-- MarriedID: integer (nullable = true)\n",
      " |-- MaritalStatusID: integer (nullable = true)\n",
      " |-- GenderID: integer (nullable = true)\n",
      " |-- EmpStatusID: integer (nullable = true)\n",
      " |-- DeptID: integer (nullable = true)\n",
      " |-- PerfScoreID: integer (nullable = true)\n",
      " |-- FromDiversityJobFairID: integer (nullable = true)\n",
      " |-- Salary: integer (nullable = true)\n",
      " |-- Termd: integer (nullable = true)\n",
      " |-- PositionID: integer (nullable = true)\n",
      " |-- Position: string (nullable = true)\n",
      " |-- State: string (nullable = true)\n",
      " |-- Zip: integer (nullable = true)\n",
      " |-- DOB: long (nullable = true)\n",
      " |-- Sex: string (nullable = true)\n",
      " |-- MaritalDesc: string (nullable = true)\n",
      " |-- CitizenDesc: string (nullable = true)\n",
      " |-- HispanicLatino: string (nullable = true)\n",
      " |-- RaceDesc: string (nullable = true)\n",
      " |-- DateofHire: long (nullable = true)\n",
      " |-- DateofTermination: long (nullable = true)\n",
      " |-- TermReason: string (nullable = false)\n",
      " |-- EmploymentStatus: string (nullable = true)\n",
      " |-- Department: string (nullable = true)\n",
      " |-- ManagerName: string (nullable = true)\n",
      " |-- ManagerID: integer (nullable = false)\n",
      " |-- RecruitmentSource: string (nullable = true)\n",
      " |-- PerformanceScore: string (nullable = true)\n",
      " |-- EngagementSurvey: double (nullable = true)\n",
      " |-- EmpSatisfaction: integer (nullable = true)\n",
      " |-- SpecialProjectsCount: integer (nullable = true)\n",
      " |-- LastPerformanceReview_Date: long (nullable = true)\n",
      " |-- DaysLateLast30: integer (nullable = false)\n",
      " |-- Absences: integer (nullable = true)\n",
      " |-- DaysWorked: double (nullable = true)\n",
      " |-- EmpLastname-num: double (nullable = false)\n",
      "\n",
      "None\n"
     ]
    }
   ],
   "source": [
    "assembler =  VectorAssembler(outputCol=\"features\", inputCols=list(featureCols))\n",
    "\n",
    "labeledData = empLastnameIndexer.transform(df)\n",
    "print(labeledData.printSchema())"
   ]
  },
  {
   "cell_type": "code",
   "execution_count": null,
   "metadata": {},
   "outputs": [],
   "source": []
  },
  {
   "cell_type": "markdown",
   "metadata": {},
   "source": [
    "### Build a featureIndexer \n",
    "\n",
    "Automatically identify categorical features, and index them.\n",
    "Features with > 5 distinct values are treated as continuous."
   ]
  },
  {
   "cell_type": "code",
   "execution_count": 82,
   "metadata": {},
   "outputs": [],
   "source": [
    "featureIndexer = VectorIndexer(inputCol=\"features\",outputCol=\"indexedFeatures\", maxCategories=6) "
   ]
  },
  {
   "cell_type": "markdown",
   "metadata": {},
   "source": [
    "### Convert indexed labels back to original labels"
   ]
  },
  {
   "cell_type": "code",
   "execution_count": 83,
   "metadata": {},
   "outputs": [],
   "source": [
    "predConverter = IndexToString(inputCol=\"prediction\",outputCol=\"predictedLabel\",labels=labelIndexer.labels)"
   ]
  },
  {
   "cell_type": "markdown",
   "metadata": {},
   "source": [
    "## Build the decision tree model"
   ]
  },
  {
   "cell_type": "code",
   "execution_count": 84,
   "metadata": {},
   "outputs": [],
   "source": [
    "dt = DecisionTreeClassifier(labelCol=\"label\", featuresCol=\"features\")"
   ]
  },
  {
   "cell_type": "markdown",
   "metadata": {},
   "source": [
    "## Data Preparation\n",
    "### Build a network parameters grid"
   ]
  },
  {
   "cell_type": "code",
   "execution_count": 85,
   "metadata": {},
   "outputs": [],
   "source": [
    "paramGrid = ParamGridBuilder().addGrid(dt.maxDepth, [ 5 ]) \\\n",
    "\t\t\t\t              .addGrid(dt.minInfoGain, [0.05]) \\\n",
    "\t\t\t\t              .addGrid(dt.minInstancesPerNode, [10]) \\\n",
    "                              .addGrid(dt.maxBins, [6]) \\\n",
    "\t\t\t\t              .build()"
   ]
  },
  {
   "cell_type": "markdown",
   "metadata": {},
   "source": [
    "### Split the data"
   ]
  },
  {
   "cell_type": "code",
   "execution_count": 86,
   "metadata": {},
   "outputs": [],
   "source": [
    "splits = df.randomSplit([0.6, 0.4 ], 1234)\n",
    "train = splits[0]\n",
    "test = splits[1]"
   ]
  },
  {
   "cell_type": "code",
   "execution_count": 87,
   "metadata": {},
   "outputs": [],
   "source": [
    "pipeline = Pipeline(stages= [labelIndexer, empLastnameIndexer, empFirstnameIndexer, positionIndexer, stateIdIndexer, sexIndexer, maritalDescIndexer, citizenDescIndexer, hispanicLatinoIndexer, raceDescIndexer, termReasonIndexer, empStatusIndexer, departmentIndexer, managerNameIndexer, recruitSourceIndexer, performanceScoreIndexer, assembler, featureIndexer,  dt, predConverter])"
   ]
  },
  {
   "cell_type": "code",
   "execution_count": 88,
   "metadata": {},
   "outputs": [],
   "source": [
    "evaluator =  BinaryClassificationEvaluator(labelCol=\"label\",rawPredictionCol=\"rawPrediction\", metricName=\"areaUnderROC\")"
   ]
  },
  {
   "cell_type": "code",
   "execution_count": 89,
   "metadata": {},
   "outputs": [],
   "source": [
    "cv = CrossValidator(estimator=pipeline, evaluator=evaluator,estimatorParamMaps=paramGrid,numFolds=3, parallelism=2)"
   ]
  },
  {
   "cell_type": "code",
   "execution_count": 90,
   "metadata": {},
   "outputs": [],
   "source": [
    "## Build the Cross Validator"
   ]
  },
  {
   "cell_type": "code",
   "execution_count": 91,
   "metadata": {},
   "outputs": [
    {
     "ename": "IllegalArgumentException",
     "evalue": "requirement failed: DecisionTree requires maxBins (= 6) to be at least as large as the number of values in each categorical feature, but categorical feature 23 has 294 values. Consider removing this and other categorical features with a large number of values, or add more training examples.",
     "output_type": "error",
     "traceback": [
      "\u001b[0;31m---------------------------------------------------------------------------\u001b[0m",
      "\u001b[0;31mIllegalArgumentException\u001b[0m                  Traceback (most recent call last)",
      "\u001b[0;32m<ipython-input-91-7be8016dd61c>\u001b[0m in \u001b[0;36m<module>\u001b[0;34m\u001b[0m\n\u001b[0;32m----> 1\u001b[0;31m \u001b[0mcvModel\u001b[0m \u001b[0;34m=\u001b[0m \u001b[0mcv\u001b[0m\u001b[0;34m.\u001b[0m\u001b[0mfit\u001b[0m\u001b[0;34m(\u001b[0m\u001b[0mtrain\u001b[0m\u001b[0;34m)\u001b[0m\u001b[0;34m\u001b[0m\u001b[0;34m\u001b[0m\u001b[0m\n\u001b[0m",
      "\u001b[0;32m~/spark-3.0.1-bin-hadoop2.7/python/pyspark/ml/base.py\u001b[0m in \u001b[0;36mfit\u001b[0;34m(self, dataset, params)\u001b[0m\n\u001b[1;32m    127\u001b[0m                 \u001b[0;32mreturn\u001b[0m \u001b[0mself\u001b[0m\u001b[0;34m.\u001b[0m\u001b[0mcopy\u001b[0m\u001b[0;34m(\u001b[0m\u001b[0mparams\u001b[0m\u001b[0;34m)\u001b[0m\u001b[0;34m.\u001b[0m\u001b[0m_fit\u001b[0m\u001b[0;34m(\u001b[0m\u001b[0mdataset\u001b[0m\u001b[0;34m)\u001b[0m\u001b[0;34m\u001b[0m\u001b[0;34m\u001b[0m\u001b[0m\n\u001b[1;32m    128\u001b[0m             \u001b[0;32melse\u001b[0m\u001b[0;34m:\u001b[0m\u001b[0;34m\u001b[0m\u001b[0;34m\u001b[0m\u001b[0m\n\u001b[0;32m--> 129\u001b[0;31m                 \u001b[0;32mreturn\u001b[0m \u001b[0mself\u001b[0m\u001b[0;34m.\u001b[0m\u001b[0m_fit\u001b[0m\u001b[0;34m(\u001b[0m\u001b[0mdataset\u001b[0m\u001b[0;34m)\u001b[0m\u001b[0;34m\u001b[0m\u001b[0;34m\u001b[0m\u001b[0m\n\u001b[0m\u001b[1;32m    130\u001b[0m         \u001b[0;32melse\u001b[0m\u001b[0;34m:\u001b[0m\u001b[0;34m\u001b[0m\u001b[0;34m\u001b[0m\u001b[0m\n\u001b[1;32m    131\u001b[0m             raise ValueError(\"Params must be either a param map or a list/tuple of param maps, \"\n",
      "\u001b[0;32m~/spark-3.0.1-bin-hadoop2.7/python/pyspark/ml/tuning.py\u001b[0m in \u001b[0;36m_fit\u001b[0;34m(self, dataset)\u001b[0m\n\u001b[1;32m    356\u001b[0m \u001b[0;34m\u001b[0m\u001b[0m\n\u001b[1;32m    357\u001b[0m             \u001b[0mtasks\u001b[0m \u001b[0;34m=\u001b[0m \u001b[0m_parallelFitTasks\u001b[0m\u001b[0;34m(\u001b[0m\u001b[0mest\u001b[0m\u001b[0;34m,\u001b[0m \u001b[0mtrain\u001b[0m\u001b[0;34m,\u001b[0m \u001b[0meva\u001b[0m\u001b[0;34m,\u001b[0m \u001b[0mvalidation\u001b[0m\u001b[0;34m,\u001b[0m \u001b[0mepm\u001b[0m\u001b[0;34m,\u001b[0m \u001b[0mcollectSubModelsParam\u001b[0m\u001b[0;34m)\u001b[0m\u001b[0;34m\u001b[0m\u001b[0;34m\u001b[0m\u001b[0m\n\u001b[0;32m--> 358\u001b[0;31m             \u001b[0;32mfor\u001b[0m \u001b[0mj\u001b[0m\u001b[0;34m,\u001b[0m \u001b[0mmetric\u001b[0m\u001b[0;34m,\u001b[0m \u001b[0msubModel\u001b[0m \u001b[0;32min\u001b[0m \u001b[0mpool\u001b[0m\u001b[0;34m.\u001b[0m\u001b[0mimap_unordered\u001b[0m\u001b[0;34m(\u001b[0m\u001b[0;32mlambda\u001b[0m \u001b[0mf\u001b[0m\u001b[0;34m:\u001b[0m \u001b[0mf\u001b[0m\u001b[0;34m(\u001b[0m\u001b[0;34m)\u001b[0m\u001b[0;34m,\u001b[0m \u001b[0mtasks\u001b[0m\u001b[0;34m)\u001b[0m\u001b[0;34m:\u001b[0m\u001b[0;34m\u001b[0m\u001b[0;34m\u001b[0m\u001b[0m\n\u001b[0m\u001b[1;32m    359\u001b[0m                 \u001b[0mmetrics\u001b[0m\u001b[0;34m[\u001b[0m\u001b[0mj\u001b[0m\u001b[0;34m]\u001b[0m \u001b[0;34m+=\u001b[0m \u001b[0;34m(\u001b[0m\u001b[0mmetric\u001b[0m \u001b[0;34m/\u001b[0m \u001b[0mnFolds\u001b[0m\u001b[0;34m)\u001b[0m\u001b[0;34m\u001b[0m\u001b[0;34m\u001b[0m\u001b[0m\n\u001b[1;32m    360\u001b[0m                 \u001b[0;32mif\u001b[0m \u001b[0mcollectSubModelsParam\u001b[0m\u001b[0;34m:\u001b[0m\u001b[0;34m\u001b[0m\u001b[0;34m\u001b[0m\u001b[0m\n",
      "\u001b[0;32m/usr/lib/python3.7/multiprocessing/pool.py\u001b[0m in \u001b[0;36mnext\u001b[0;34m(self, timeout)\u001b[0m\n\u001b[1;32m    746\u001b[0m         \u001b[0;32mif\u001b[0m \u001b[0msuccess\u001b[0m\u001b[0;34m:\u001b[0m\u001b[0;34m\u001b[0m\u001b[0;34m\u001b[0m\u001b[0m\n\u001b[1;32m    747\u001b[0m             \u001b[0;32mreturn\u001b[0m \u001b[0mvalue\u001b[0m\u001b[0;34m\u001b[0m\u001b[0;34m\u001b[0m\u001b[0m\n\u001b[0;32m--> 748\u001b[0;31m         \u001b[0;32mraise\u001b[0m \u001b[0mvalue\u001b[0m\u001b[0;34m\u001b[0m\u001b[0;34m\u001b[0m\u001b[0m\n\u001b[0m\u001b[1;32m    749\u001b[0m \u001b[0;34m\u001b[0m\u001b[0m\n\u001b[1;32m    750\u001b[0m     \u001b[0m__next__\u001b[0m \u001b[0;34m=\u001b[0m \u001b[0mnext\u001b[0m                    \u001b[0;31m# XXX\u001b[0m\u001b[0;34m\u001b[0m\u001b[0;34m\u001b[0m\u001b[0m\n",
      "\u001b[0;32m/usr/lib/python3.7/multiprocessing/pool.py\u001b[0m in \u001b[0;36mworker\u001b[0;34m(inqueue, outqueue, initializer, initargs, maxtasks, wrap_exception)\u001b[0m\n\u001b[1;32m    119\u001b[0m         \u001b[0mjob\u001b[0m\u001b[0;34m,\u001b[0m \u001b[0mi\u001b[0m\u001b[0;34m,\u001b[0m \u001b[0mfunc\u001b[0m\u001b[0;34m,\u001b[0m \u001b[0margs\u001b[0m\u001b[0;34m,\u001b[0m \u001b[0mkwds\u001b[0m \u001b[0;34m=\u001b[0m \u001b[0mtask\u001b[0m\u001b[0;34m\u001b[0m\u001b[0;34m\u001b[0m\u001b[0m\n\u001b[1;32m    120\u001b[0m         \u001b[0;32mtry\u001b[0m\u001b[0;34m:\u001b[0m\u001b[0;34m\u001b[0m\u001b[0;34m\u001b[0m\u001b[0m\n\u001b[0;32m--> 121\u001b[0;31m             \u001b[0mresult\u001b[0m \u001b[0;34m=\u001b[0m \u001b[0;34m(\u001b[0m\u001b[0;32mTrue\u001b[0m\u001b[0;34m,\u001b[0m \u001b[0mfunc\u001b[0m\u001b[0;34m(\u001b[0m\u001b[0;34m*\u001b[0m\u001b[0margs\u001b[0m\u001b[0;34m,\u001b[0m \u001b[0;34m**\u001b[0m\u001b[0mkwds\u001b[0m\u001b[0;34m)\u001b[0m\u001b[0;34m)\u001b[0m\u001b[0;34m\u001b[0m\u001b[0;34m\u001b[0m\u001b[0m\n\u001b[0m\u001b[1;32m    122\u001b[0m         \u001b[0;32mexcept\u001b[0m \u001b[0mException\u001b[0m \u001b[0;32mas\u001b[0m \u001b[0me\u001b[0m\u001b[0;34m:\u001b[0m\u001b[0;34m\u001b[0m\u001b[0;34m\u001b[0m\u001b[0m\n\u001b[1;32m    123\u001b[0m             \u001b[0;32mif\u001b[0m \u001b[0mwrap_exception\u001b[0m \u001b[0;32mand\u001b[0m \u001b[0mfunc\u001b[0m \u001b[0;32mis\u001b[0m \u001b[0;32mnot\u001b[0m \u001b[0m_helper_reraises_exception\u001b[0m\u001b[0;34m:\u001b[0m\u001b[0;34m\u001b[0m\u001b[0;34m\u001b[0m\u001b[0m\n",
      "\u001b[0;32m~/spark-3.0.1-bin-hadoop2.7/python/pyspark/ml/tuning.py\u001b[0m in \u001b[0;36m<lambda>\u001b[0;34m(f)\u001b[0m\n\u001b[1;32m    356\u001b[0m \u001b[0;34m\u001b[0m\u001b[0m\n\u001b[1;32m    357\u001b[0m             \u001b[0mtasks\u001b[0m \u001b[0;34m=\u001b[0m \u001b[0m_parallelFitTasks\u001b[0m\u001b[0;34m(\u001b[0m\u001b[0mest\u001b[0m\u001b[0;34m,\u001b[0m \u001b[0mtrain\u001b[0m\u001b[0;34m,\u001b[0m \u001b[0meva\u001b[0m\u001b[0;34m,\u001b[0m \u001b[0mvalidation\u001b[0m\u001b[0;34m,\u001b[0m \u001b[0mepm\u001b[0m\u001b[0;34m,\u001b[0m \u001b[0mcollectSubModelsParam\u001b[0m\u001b[0;34m)\u001b[0m\u001b[0;34m\u001b[0m\u001b[0;34m\u001b[0m\u001b[0m\n\u001b[0;32m--> 358\u001b[0;31m             \u001b[0;32mfor\u001b[0m \u001b[0mj\u001b[0m\u001b[0;34m,\u001b[0m \u001b[0mmetric\u001b[0m\u001b[0;34m,\u001b[0m \u001b[0msubModel\u001b[0m \u001b[0;32min\u001b[0m \u001b[0mpool\u001b[0m\u001b[0;34m.\u001b[0m\u001b[0mimap_unordered\u001b[0m\u001b[0;34m(\u001b[0m\u001b[0;32mlambda\u001b[0m \u001b[0mf\u001b[0m\u001b[0;34m:\u001b[0m \u001b[0mf\u001b[0m\u001b[0;34m(\u001b[0m\u001b[0;34m)\u001b[0m\u001b[0;34m,\u001b[0m \u001b[0mtasks\u001b[0m\u001b[0;34m)\u001b[0m\u001b[0;34m:\u001b[0m\u001b[0;34m\u001b[0m\u001b[0;34m\u001b[0m\u001b[0m\n\u001b[0m\u001b[1;32m    359\u001b[0m                 \u001b[0mmetrics\u001b[0m\u001b[0;34m[\u001b[0m\u001b[0mj\u001b[0m\u001b[0;34m]\u001b[0m \u001b[0;34m+=\u001b[0m \u001b[0;34m(\u001b[0m\u001b[0mmetric\u001b[0m \u001b[0;34m/\u001b[0m \u001b[0mnFolds\u001b[0m\u001b[0;34m)\u001b[0m\u001b[0;34m\u001b[0m\u001b[0;34m\u001b[0m\u001b[0m\n\u001b[1;32m    360\u001b[0m                 \u001b[0;32mif\u001b[0m \u001b[0mcollectSubModelsParam\u001b[0m\u001b[0;34m:\u001b[0m\u001b[0;34m\u001b[0m\u001b[0;34m\u001b[0m\u001b[0m\n",
      "\u001b[0;32m~/spark-3.0.1-bin-hadoop2.7/python/pyspark/ml/tuning.py\u001b[0m in \u001b[0;36msingleTask\u001b[0;34m()\u001b[0m\n\u001b[1;32m     50\u001b[0m \u001b[0;34m\u001b[0m\u001b[0m\n\u001b[1;32m     51\u001b[0m     \u001b[0;32mdef\u001b[0m \u001b[0msingleTask\u001b[0m\u001b[0;34m(\u001b[0m\u001b[0;34m)\u001b[0m\u001b[0;34m:\u001b[0m\u001b[0;34m\u001b[0m\u001b[0;34m\u001b[0m\u001b[0m\n\u001b[0;32m---> 52\u001b[0;31m         \u001b[0mindex\u001b[0m\u001b[0;34m,\u001b[0m \u001b[0mmodel\u001b[0m \u001b[0;34m=\u001b[0m \u001b[0mnext\u001b[0m\u001b[0;34m(\u001b[0m\u001b[0mmodelIter\u001b[0m\u001b[0;34m)\u001b[0m\u001b[0;34m\u001b[0m\u001b[0;34m\u001b[0m\u001b[0m\n\u001b[0m\u001b[1;32m     53\u001b[0m         \u001b[0mmetric\u001b[0m \u001b[0;34m=\u001b[0m \u001b[0meva\u001b[0m\u001b[0;34m.\u001b[0m\u001b[0mevaluate\u001b[0m\u001b[0;34m(\u001b[0m\u001b[0mmodel\u001b[0m\u001b[0;34m.\u001b[0m\u001b[0mtransform\u001b[0m\u001b[0;34m(\u001b[0m\u001b[0mvalidation\u001b[0m\u001b[0;34m,\u001b[0m \u001b[0mepm\u001b[0m\u001b[0;34m[\u001b[0m\u001b[0mindex\u001b[0m\u001b[0;34m]\u001b[0m\u001b[0;34m)\u001b[0m\u001b[0;34m)\u001b[0m\u001b[0;34m\u001b[0m\u001b[0;34m\u001b[0m\u001b[0m\n\u001b[1;32m     54\u001b[0m         \u001b[0;32mreturn\u001b[0m \u001b[0mindex\u001b[0m\u001b[0;34m,\u001b[0m \u001b[0mmetric\u001b[0m\u001b[0;34m,\u001b[0m \u001b[0mmodel\u001b[0m \u001b[0;32mif\u001b[0m \u001b[0mcollectSubModel\u001b[0m \u001b[0;32melse\u001b[0m \u001b[0;32mNone\u001b[0m\u001b[0;34m\u001b[0m\u001b[0;34m\u001b[0m\u001b[0m\n",
      "\u001b[0;32m~/spark-3.0.1-bin-hadoop2.7/python/pyspark/ml/base.py\u001b[0m in \u001b[0;36m__next__\u001b[0;34m(self)\u001b[0m\n\u001b[1;32m     60\u001b[0m                 \u001b[0;32mraise\u001b[0m \u001b[0mStopIteration\u001b[0m\u001b[0;34m(\u001b[0m\u001b[0;34m\"No models remaining.\"\u001b[0m\u001b[0;34m)\u001b[0m\u001b[0;34m\u001b[0m\u001b[0;34m\u001b[0m\u001b[0m\n\u001b[1;32m     61\u001b[0m             \u001b[0mself\u001b[0m\u001b[0;34m.\u001b[0m\u001b[0mcounter\u001b[0m \u001b[0;34m+=\u001b[0m \u001b[0;36m1\u001b[0m\u001b[0;34m\u001b[0m\u001b[0;34m\u001b[0m\u001b[0m\n\u001b[0;32m---> 62\u001b[0;31m         \u001b[0;32mreturn\u001b[0m \u001b[0mindex\u001b[0m\u001b[0;34m,\u001b[0m \u001b[0mself\u001b[0m\u001b[0;34m.\u001b[0m\u001b[0mfitSingleModel\u001b[0m\u001b[0;34m(\u001b[0m\u001b[0mindex\u001b[0m\u001b[0;34m)\u001b[0m\u001b[0;34m\u001b[0m\u001b[0;34m\u001b[0m\u001b[0m\n\u001b[0m\u001b[1;32m     63\u001b[0m \u001b[0;34m\u001b[0m\u001b[0m\n\u001b[1;32m     64\u001b[0m     \u001b[0;32mdef\u001b[0m \u001b[0mnext\u001b[0m\u001b[0;34m(\u001b[0m\u001b[0mself\u001b[0m\u001b[0;34m)\u001b[0m\u001b[0;34m:\u001b[0m\u001b[0;34m\u001b[0m\u001b[0;34m\u001b[0m\u001b[0m\n",
      "\u001b[0;32m~/spark-3.0.1-bin-hadoop2.7/python/pyspark/ml/base.py\u001b[0m in \u001b[0;36mfitSingleModel\u001b[0;34m(index)\u001b[0m\n\u001b[1;32m    101\u001b[0m \u001b[0;34m\u001b[0m\u001b[0m\n\u001b[1;32m    102\u001b[0m         \u001b[0;32mdef\u001b[0m \u001b[0mfitSingleModel\u001b[0m\u001b[0;34m(\u001b[0m\u001b[0mindex\u001b[0m\u001b[0;34m)\u001b[0m\u001b[0;34m:\u001b[0m\u001b[0;34m\u001b[0m\u001b[0;34m\u001b[0m\u001b[0m\n\u001b[0;32m--> 103\u001b[0;31m             \u001b[0;32mreturn\u001b[0m \u001b[0mestimator\u001b[0m\u001b[0;34m.\u001b[0m\u001b[0mfit\u001b[0m\u001b[0;34m(\u001b[0m\u001b[0mdataset\u001b[0m\u001b[0;34m,\u001b[0m \u001b[0mparamMaps\u001b[0m\u001b[0;34m[\u001b[0m\u001b[0mindex\u001b[0m\u001b[0;34m]\u001b[0m\u001b[0;34m)\u001b[0m\u001b[0;34m\u001b[0m\u001b[0;34m\u001b[0m\u001b[0m\n\u001b[0m\u001b[1;32m    104\u001b[0m \u001b[0;34m\u001b[0m\u001b[0m\n\u001b[1;32m    105\u001b[0m         \u001b[0;32mreturn\u001b[0m \u001b[0m_FitMultipleIterator\u001b[0m\u001b[0;34m(\u001b[0m\u001b[0mfitSingleModel\u001b[0m\u001b[0;34m,\u001b[0m \u001b[0mlen\u001b[0m\u001b[0;34m(\u001b[0m\u001b[0mparamMaps\u001b[0m\u001b[0;34m)\u001b[0m\u001b[0;34m)\u001b[0m\u001b[0;34m\u001b[0m\u001b[0;34m\u001b[0m\u001b[0m\n",
      "\u001b[0;32m~/spark-3.0.1-bin-hadoop2.7/python/pyspark/ml/base.py\u001b[0m in \u001b[0;36mfit\u001b[0;34m(self, dataset, params)\u001b[0m\n\u001b[1;32m    125\u001b[0m         \u001b[0;32melif\u001b[0m \u001b[0misinstance\u001b[0m\u001b[0;34m(\u001b[0m\u001b[0mparams\u001b[0m\u001b[0;34m,\u001b[0m \u001b[0mdict\u001b[0m\u001b[0;34m)\u001b[0m\u001b[0;34m:\u001b[0m\u001b[0;34m\u001b[0m\u001b[0;34m\u001b[0m\u001b[0m\n\u001b[1;32m    126\u001b[0m             \u001b[0;32mif\u001b[0m \u001b[0mparams\u001b[0m\u001b[0;34m:\u001b[0m\u001b[0;34m\u001b[0m\u001b[0;34m\u001b[0m\u001b[0m\n\u001b[0;32m--> 127\u001b[0;31m                 \u001b[0;32mreturn\u001b[0m \u001b[0mself\u001b[0m\u001b[0;34m.\u001b[0m\u001b[0mcopy\u001b[0m\u001b[0;34m(\u001b[0m\u001b[0mparams\u001b[0m\u001b[0;34m)\u001b[0m\u001b[0;34m.\u001b[0m\u001b[0m_fit\u001b[0m\u001b[0;34m(\u001b[0m\u001b[0mdataset\u001b[0m\u001b[0;34m)\u001b[0m\u001b[0;34m\u001b[0m\u001b[0;34m\u001b[0m\u001b[0m\n\u001b[0m\u001b[1;32m    128\u001b[0m             \u001b[0;32melse\u001b[0m\u001b[0;34m:\u001b[0m\u001b[0;34m\u001b[0m\u001b[0;34m\u001b[0m\u001b[0m\n\u001b[1;32m    129\u001b[0m                 \u001b[0;32mreturn\u001b[0m \u001b[0mself\u001b[0m\u001b[0;34m.\u001b[0m\u001b[0m_fit\u001b[0m\u001b[0;34m(\u001b[0m\u001b[0mdataset\u001b[0m\u001b[0;34m)\u001b[0m\u001b[0;34m\u001b[0m\u001b[0;34m\u001b[0m\u001b[0m\n",
      "\u001b[0;32m~/spark-3.0.1-bin-hadoop2.7/python/pyspark/ml/pipeline.py\u001b[0m in \u001b[0;36m_fit\u001b[0;34m(self, dataset)\u001b[0m\n\u001b[1;32m    107\u001b[0m                     \u001b[0mdataset\u001b[0m \u001b[0;34m=\u001b[0m \u001b[0mstage\u001b[0m\u001b[0;34m.\u001b[0m\u001b[0mtransform\u001b[0m\u001b[0;34m(\u001b[0m\u001b[0mdataset\u001b[0m\u001b[0;34m)\u001b[0m\u001b[0;34m\u001b[0m\u001b[0;34m\u001b[0m\u001b[0m\n\u001b[1;32m    108\u001b[0m                 \u001b[0;32melse\u001b[0m\u001b[0;34m:\u001b[0m  \u001b[0;31m# must be an Estimator\u001b[0m\u001b[0;34m\u001b[0m\u001b[0;34m\u001b[0m\u001b[0m\n\u001b[0;32m--> 109\u001b[0;31m                     \u001b[0mmodel\u001b[0m \u001b[0;34m=\u001b[0m \u001b[0mstage\u001b[0m\u001b[0;34m.\u001b[0m\u001b[0mfit\u001b[0m\u001b[0;34m(\u001b[0m\u001b[0mdataset\u001b[0m\u001b[0;34m)\u001b[0m\u001b[0;34m\u001b[0m\u001b[0;34m\u001b[0m\u001b[0m\n\u001b[0m\u001b[1;32m    110\u001b[0m                     \u001b[0mtransformers\u001b[0m\u001b[0;34m.\u001b[0m\u001b[0mappend\u001b[0m\u001b[0;34m(\u001b[0m\u001b[0mmodel\u001b[0m\u001b[0;34m)\u001b[0m\u001b[0;34m\u001b[0m\u001b[0;34m\u001b[0m\u001b[0m\n\u001b[1;32m    111\u001b[0m                     \u001b[0;32mif\u001b[0m \u001b[0mi\u001b[0m \u001b[0;34m<\u001b[0m \u001b[0mindexOfLastEstimator\u001b[0m\u001b[0;34m:\u001b[0m\u001b[0;34m\u001b[0m\u001b[0;34m\u001b[0m\u001b[0m\n",
      "\u001b[0;32m~/spark-3.0.1-bin-hadoop2.7/python/pyspark/ml/base.py\u001b[0m in \u001b[0;36mfit\u001b[0;34m(self, dataset, params)\u001b[0m\n\u001b[1;32m    127\u001b[0m                 \u001b[0;32mreturn\u001b[0m \u001b[0mself\u001b[0m\u001b[0;34m.\u001b[0m\u001b[0mcopy\u001b[0m\u001b[0;34m(\u001b[0m\u001b[0mparams\u001b[0m\u001b[0;34m)\u001b[0m\u001b[0;34m.\u001b[0m\u001b[0m_fit\u001b[0m\u001b[0;34m(\u001b[0m\u001b[0mdataset\u001b[0m\u001b[0;34m)\u001b[0m\u001b[0;34m\u001b[0m\u001b[0;34m\u001b[0m\u001b[0m\n\u001b[1;32m    128\u001b[0m             \u001b[0;32melse\u001b[0m\u001b[0;34m:\u001b[0m\u001b[0;34m\u001b[0m\u001b[0;34m\u001b[0m\u001b[0m\n\u001b[0;32m--> 129\u001b[0;31m                 \u001b[0;32mreturn\u001b[0m \u001b[0mself\u001b[0m\u001b[0;34m.\u001b[0m\u001b[0m_fit\u001b[0m\u001b[0;34m(\u001b[0m\u001b[0mdataset\u001b[0m\u001b[0;34m)\u001b[0m\u001b[0;34m\u001b[0m\u001b[0;34m\u001b[0m\u001b[0m\n\u001b[0m\u001b[1;32m    130\u001b[0m         \u001b[0;32melse\u001b[0m\u001b[0;34m:\u001b[0m\u001b[0;34m\u001b[0m\u001b[0;34m\u001b[0m\u001b[0m\n\u001b[1;32m    131\u001b[0m             raise ValueError(\"Params must be either a param map or a list/tuple of param maps, \"\n",
      "\u001b[0;32m~/spark-3.0.1-bin-hadoop2.7/python/pyspark/ml/wrapper.py\u001b[0m in \u001b[0;36m_fit\u001b[0;34m(self, dataset)\u001b[0m\n\u001b[1;32m    319\u001b[0m \u001b[0;34m\u001b[0m\u001b[0m\n\u001b[1;32m    320\u001b[0m     \u001b[0;32mdef\u001b[0m \u001b[0m_fit\u001b[0m\u001b[0;34m(\u001b[0m\u001b[0mself\u001b[0m\u001b[0;34m,\u001b[0m \u001b[0mdataset\u001b[0m\u001b[0;34m)\u001b[0m\u001b[0;34m:\u001b[0m\u001b[0;34m\u001b[0m\u001b[0;34m\u001b[0m\u001b[0m\n\u001b[0;32m--> 321\u001b[0;31m         \u001b[0mjava_model\u001b[0m \u001b[0;34m=\u001b[0m \u001b[0mself\u001b[0m\u001b[0;34m.\u001b[0m\u001b[0m_fit_java\u001b[0m\u001b[0;34m(\u001b[0m\u001b[0mdataset\u001b[0m\u001b[0;34m)\u001b[0m\u001b[0;34m\u001b[0m\u001b[0;34m\u001b[0m\u001b[0m\n\u001b[0m\u001b[1;32m    322\u001b[0m         \u001b[0mmodel\u001b[0m \u001b[0;34m=\u001b[0m \u001b[0mself\u001b[0m\u001b[0;34m.\u001b[0m\u001b[0m_create_model\u001b[0m\u001b[0;34m(\u001b[0m\u001b[0mjava_model\u001b[0m\u001b[0;34m)\u001b[0m\u001b[0;34m\u001b[0m\u001b[0;34m\u001b[0m\u001b[0m\n\u001b[1;32m    323\u001b[0m         \u001b[0;32mreturn\u001b[0m \u001b[0mself\u001b[0m\u001b[0;34m.\u001b[0m\u001b[0m_copyValues\u001b[0m\u001b[0;34m(\u001b[0m\u001b[0mmodel\u001b[0m\u001b[0;34m)\u001b[0m\u001b[0;34m\u001b[0m\u001b[0;34m\u001b[0m\u001b[0m\n",
      "\u001b[0;32m~/spark-3.0.1-bin-hadoop2.7/python/pyspark/ml/wrapper.py\u001b[0m in \u001b[0;36m_fit_java\u001b[0;34m(self, dataset)\u001b[0m\n\u001b[1;32m    316\u001b[0m         \"\"\"\n\u001b[1;32m    317\u001b[0m         \u001b[0mself\u001b[0m\u001b[0;34m.\u001b[0m\u001b[0m_transfer_params_to_java\u001b[0m\u001b[0;34m(\u001b[0m\u001b[0;34m)\u001b[0m\u001b[0;34m\u001b[0m\u001b[0;34m\u001b[0m\u001b[0m\n\u001b[0;32m--> 318\u001b[0;31m         \u001b[0;32mreturn\u001b[0m \u001b[0mself\u001b[0m\u001b[0;34m.\u001b[0m\u001b[0m_java_obj\u001b[0m\u001b[0;34m.\u001b[0m\u001b[0mfit\u001b[0m\u001b[0;34m(\u001b[0m\u001b[0mdataset\u001b[0m\u001b[0;34m.\u001b[0m\u001b[0m_jdf\u001b[0m\u001b[0;34m)\u001b[0m\u001b[0;34m\u001b[0m\u001b[0;34m\u001b[0m\u001b[0m\n\u001b[0m\u001b[1;32m    319\u001b[0m \u001b[0;34m\u001b[0m\u001b[0m\n\u001b[1;32m    320\u001b[0m     \u001b[0;32mdef\u001b[0m \u001b[0m_fit\u001b[0m\u001b[0;34m(\u001b[0m\u001b[0mself\u001b[0m\u001b[0;34m,\u001b[0m \u001b[0mdataset\u001b[0m\u001b[0;34m)\u001b[0m\u001b[0;34m:\u001b[0m\u001b[0;34m\u001b[0m\u001b[0;34m\u001b[0m\u001b[0m\n",
      "\u001b[0;32m~/spark-3.0.1-bin-hadoop2.7/python/lib/py4j-0.10.9-src.zip/py4j/java_gateway.py\u001b[0m in \u001b[0;36m__call__\u001b[0;34m(self, *args)\u001b[0m\n\u001b[1;32m   1303\u001b[0m         \u001b[0manswer\u001b[0m \u001b[0;34m=\u001b[0m \u001b[0mself\u001b[0m\u001b[0;34m.\u001b[0m\u001b[0mgateway_client\u001b[0m\u001b[0;34m.\u001b[0m\u001b[0msend_command\u001b[0m\u001b[0;34m(\u001b[0m\u001b[0mcommand\u001b[0m\u001b[0;34m)\u001b[0m\u001b[0;34m\u001b[0m\u001b[0;34m\u001b[0m\u001b[0m\n\u001b[1;32m   1304\u001b[0m         return_value = get_return_value(\n\u001b[0;32m-> 1305\u001b[0;31m             answer, self.gateway_client, self.target_id, self.name)\n\u001b[0m\u001b[1;32m   1306\u001b[0m \u001b[0;34m\u001b[0m\u001b[0m\n\u001b[1;32m   1307\u001b[0m         \u001b[0;32mfor\u001b[0m \u001b[0mtemp_arg\u001b[0m \u001b[0;32min\u001b[0m \u001b[0mtemp_args\u001b[0m\u001b[0;34m:\u001b[0m\u001b[0;34m\u001b[0m\u001b[0;34m\u001b[0m\u001b[0m\n",
      "\u001b[0;32m~/spark-3.0.1-bin-hadoop2.7/python/pyspark/sql/utils.py\u001b[0m in \u001b[0;36mdeco\u001b[0;34m(*a, **kw)\u001b[0m\n\u001b[1;32m    132\u001b[0m                 \u001b[0;31m# Hide where the exception came from that shows a non-Pythonic\u001b[0m\u001b[0;34m\u001b[0m\u001b[0;34m\u001b[0m\u001b[0;34m\u001b[0m\u001b[0m\n\u001b[1;32m    133\u001b[0m                 \u001b[0;31m# JVM exception message.\u001b[0m\u001b[0;34m\u001b[0m\u001b[0;34m\u001b[0m\u001b[0;34m\u001b[0m\u001b[0m\n\u001b[0;32m--> 134\u001b[0;31m                 \u001b[0mraise_from\u001b[0m\u001b[0;34m(\u001b[0m\u001b[0mconverted\u001b[0m\u001b[0;34m)\u001b[0m\u001b[0;34m\u001b[0m\u001b[0;34m\u001b[0m\u001b[0m\n\u001b[0m\u001b[1;32m    135\u001b[0m             \u001b[0;32melse\u001b[0m\u001b[0;34m:\u001b[0m\u001b[0;34m\u001b[0m\u001b[0;34m\u001b[0m\u001b[0m\n\u001b[1;32m    136\u001b[0m                 \u001b[0;32mraise\u001b[0m\u001b[0;34m\u001b[0m\u001b[0;34m\u001b[0m\u001b[0m\n",
      "\u001b[0;32m~/spark-3.0.1-bin-hadoop2.7/python/pyspark/sql/utils.py\u001b[0m in \u001b[0;36mraise_from\u001b[0;34m(e)\u001b[0m\n",
      "\u001b[0;31mIllegalArgumentException\u001b[0m: requirement failed: DecisionTree requires maxBins (= 6) to be at least as large as the number of values in each categorical feature, but categorical feature 23 has 294 values. Consider removing this and other categorical features with a large number of values, or add more training examples."
     ]
    }
   ],
   "source": [
    "cvModel = cv.fit(train)"
   ]
  },
  {
   "cell_type": "code",
   "execution_count": null,
   "metadata": {},
   "outputs": [],
   "source": []
  },
  {
   "cell_type": "code",
   "execution_count": null,
   "metadata": {},
   "outputs": [],
   "source": [
    "treeModel = cvModel.bestModel.stages[7]\n",
    "print(\"Learned classification tree model:\\n\",treeModel)\n",
    "print(\"Best Params: \\n\", treeModel.explainParams())"
   ]
  },
  {
   "cell_type": "code",
   "execution_count": null,
   "metadata": {},
   "outputs": [],
   "source": [
    "predictions = cvModel.transform(test)\n",
    "predictions.select(\"prediction\", \"label\", \"predictedLabel\", \"LEAVE\", \"features\").show()"
   ]
  },
  {
   "cell_type": "code",
   "execution_count": null,
   "metadata": {},
   "outputs": [],
   "source": [
    "accuracy = evaluator.evaluate(predictions)\n",
    "print(\"Test Error = \" ,(1.0 - accuracy))"
   ]
  },
  {
   "cell_type": "code",
   "execution_count": null,
   "metadata": {},
   "outputs": [],
   "source": []
  },
  {
   "cell_type": "code",
   "execution_count": null,
   "metadata": {},
   "outputs": [],
   "source": []
  },
  {
   "cell_type": "code",
   "execution_count": null,
   "metadata": {},
   "outputs": [],
   "source": []
  },
  {
   "cell_type": "code",
   "execution_count": null,
   "metadata": {},
   "outputs": [],
   "source": [
    "labeledData = empLastnameIndexer.transform(df)\n",
    "# pipeline all indexers\n",
    "indexedLabeledData = positionIndexer.transform(stateIdIndexer.transform(sexIndexer.transform(maritalDescIndexer.transform(citizenDescIndexer.transform(hispanicLatinoIndexer.transform(raceDescIndexer.transform(termReasonIndexer.transform(empStatusIndexer.transform(departmentIndexer.transform(managerNameIndexer.transform(recruitSourceIndexer.transform(performanceScoreIndexer.transform(empFirstnameIndexer.transform(labeledData))))))))))))))\n",
    "print(indexedLabeledData)\n",
    "labeledPointData = assembler.transform(indexedLabeledData)\n",
    "labeledPointData.show()"
   ]
  },
  {
   "cell_type": "code",
   "execution_count": null,
   "metadata": {},
   "outputs": [],
   "source": []
  }
 ],
 "metadata": {
  "kernelspec": {
   "display_name": "Python 3",
   "language": "python",
   "name": "python3"
  },
  "language_info": {
   "codemirror_mode": {
    "name": "ipython",
    "version": 3
   },
   "file_extension": ".py",
   "mimetype": "text/x-python",
   "name": "python",
   "nbconvert_exporter": "python",
   "pygments_lexer": "ipython3",
   "version": "3.7.5"
  }
 },
 "nbformat": 4,
 "nbformat_minor": 4
}
