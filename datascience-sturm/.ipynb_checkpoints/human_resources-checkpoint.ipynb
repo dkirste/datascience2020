{
 "cells": [
  {
   "cell_type": "markdown",
   "metadata": {},
   "source": [
    "Imports"
   ]
  },
  {
   "cell_type": "code",
   "execution_count": 65,
   "metadata": {},
   "outputs": [],
   "source": [
    "from pyspark.ml.classification import LinearSVC\n",
    "from pyspark.ml.evaluation import BinaryClassificationEvaluator, MulticlassClassificationEvaluator\n",
    "from pyspark.ml.feature import StringIndexer, VectorAssembler\n",
    "from pyspark.ml.pipeline import Pipeline\n",
    "from pyspark.ml.tuning import CrossValidator, ParamGridBuilder\n",
    "from pyspark.mllib.evaluation import MulticlassMetrics\n",
    "from pyspark.sql.functions import expr\n",
    "from pyspark.sql.session import SparkSession\n",
    "from pyspark.sql.types import BooleanType\n",
    "from pyspark.sql.functions import col, unix_timestamp, to_date, datediff\n",
    "from helper_functions import translate_to_file_string\n",
    "import seaborn as sbs"
   ]
  },
  {
   "cell_type": "markdown",
   "metadata": {},
   "source": [
    "Creating Spark Context"
   ]
  },
  {
   "cell_type": "code",
   "execution_count": 66,
   "metadata": {},
   "outputs": [],
   "source": [
    "spark = (SparkSession\n",
    "       .builder\n",
    "       .appName(\"HumanResources\")\n",
    "       .getOrCreate())"
   ]
  },
  {
   "cell_type": "markdown",
   "metadata": {},
   "source": [
    "Setting input file"
   ]
  },
  {
   "cell_type": "code",
   "execution_count": 67,
   "metadata": {},
   "outputs": [
    {
     "name": "stdout",
     "output_type": "stream",
     "text": [
      "root\n",
      " |-- Employee_Name: string (nullable = true)\n",
      " |-- EmpID: integer (nullable = true)\n",
      " |-- MarriedID: integer (nullable = true)\n",
      " |-- MaritalStatusID: integer (nullable = true)\n",
      " |-- GenderID: integer (nullable = true)\n",
      " |-- EmpStatusID: integer (nullable = true)\n",
      " |-- DeptID: integer (nullable = true)\n",
      " |-- PerfScoreID: integer (nullable = true)\n",
      " |-- FromDiversityJobFairID: integer (nullable = true)\n",
      " |-- Salary: integer (nullable = true)\n",
      " |-- Termd: integer (nullable = true)\n",
      " |-- PositionID: integer (nullable = true)\n",
      " |-- Position: string (nullable = true)\n",
      " |-- State: string (nullable = true)\n",
      " |-- Zip: integer (nullable = true)\n",
      " |-- DOB: string (nullable = true)\n",
      " |-- Sex: string (nullable = true)\n",
      " |-- MaritalDesc: string (nullable = true)\n",
      " |-- CitizenDesc: string (nullable = true)\n",
      " |-- HispanicLatino: string (nullable = true)\n",
      " |-- RaceDesc: string (nullable = true)\n",
      " |-- DateofHire: string (nullable = true)\n",
      " |-- DateofTermination: string (nullable = true)\n",
      " |-- TermReason: string (nullable = true)\n",
      " |-- EmploymentStatus: string (nullable = true)\n",
      " |-- Department: string (nullable = true)\n",
      " |-- ManagerName: string (nullable = true)\n",
      " |-- ManagerID: integer (nullable = true)\n",
      " |-- RecruitmentSource: string (nullable = true)\n",
      " |-- PerformanceScore: string (nullable = true)\n",
      " |-- EngagementSurvey: double (nullable = true)\n",
      " |-- EmpSatisfaction: integer (nullable = true)\n",
      " |-- SpecialProjectsCount: integer (nullable = true)\n",
      " |-- LastPerformanceReview_Date: string (nullable = true)\n",
      " |-- DaysLateLast30: integer (nullable = true)\n",
      " |-- Absences: integer (nullable = true)\n",
      "\n",
      "None\n"
     ]
    }
   ],
   "source": [
    "inputFile = translate_to_file_string(\"./HRDataset.csv\")\n",
    "# load data file.\n",
    "# create a DataFrame using an ifered Schema\n",
    "df = spark.read.option(\"header\", \"true\") \\\n",
    "    .option(\"inferSchema\", \"true\") \\\n",
    "    .option(\"delimiter\", \",\") \\\n",
    "    .csv(inputFile) \\\n",
    "    .withColumnRenamed(\"_c0\", \"Employee_Name\")\\\n",
    "    .withColumnRenamed(\"_c1\", \"EmpID\")\\\n",
    "    .withColumnRenamed(\"_c2\", \"MarriedID\")\\\n",
    "    .withColumnRenamed(\"_c3\", \"MaritalStatusID\")\\\n",
    "    .withColumnRenamed(\"_c4\", \"GenderID\")\\\n",
    "    .withColumnRenamed(\"_c5\", \"EmpStatusID\")\\\n",
    "    .withColumnRenamed(\"_c6\", \"DeptID\")\\\n",
    "    .withColumnRenamed(\"_c7\", \"PerfScoreID\")\\\n",
    "    .withColumnRenamed(\"_c8\", \"FromDiversityJobFairID\")\\\n",
    "    .withColumnRenamed(\"_c9\", \"Salary\")\\\n",
    "    .withColumnRenamed(\"_c10\", \"Termd\")\\\n",
    "    .withColumnRenamed(\"_c11\", \"PositionID\")\\\n",
    "    .withColumnRenamed(\"_c12\", \"Position\")\\\n",
    "    .withColumnRenamed(\"_c13\", \"State\")\\\n",
    "    .withColumnRenamed(\"_c14\", \"Zip\")\\\n",
    "    .withColumnRenamed(\"_c15\", \"DOB\")\\\n",
    "    .withColumnRenamed(\"_c16\", \"Sex\")\\\n",
    "    .withColumnRenamed(\"_c17\", \"MaritalDesc\")\\\n",
    "    .withColumnRenamed(\"_c18\", \"CitizenDesc\")\\\n",
    "    .withColumnRenamed(\"_c19\", \"HispanicLatino\")\\\n",
    "    .withColumnRenamed(\"_c20\", \"RaceDesc\")\\\n",
    "    .withColumnRenamed(\"_c21\", \"DateofHire\")\\\n",
    "    .withColumnRenamed(\"_c22\", \"DateofTermination\")\\\n",
    "    .withColumnRenamed(\"_c23\", \"TermReason\")\\\n",
    "    .withColumnRenamed(\"_c24\", \"EmploymentStatus\")\\\n",
    "    .withColumnRenamed(\"_c25\", \"Department\")\\\n",
    "    .withColumnRenamed(\"_c26\", \"ManagerName\")\\\n",
    "    .withColumnRenamed(\"_c27\", \"ManagerID\")\\\n",
    "    .withColumnRenamed(\"_c28\", \"RecruitmentSource\")\\\n",
    "    .withColumnRenamed(\"_c29\", \"PerformanceScore\")\\\n",
    "    .withColumnRenamed(\"_c30\", \"EngagementSurvey\")\\\n",
    "    .withColumnRenamed(\"_c31\", \"EmpSatisfaction\")\\\n",
    "    .withColumnRenamed(\"_c32\", \"SpecialProjectsCount\")\\\n",
    "    .withColumnRenamed(\"_c33\", \"LastPerformanceReview_Date\")\\\n",
    "    .withColumnRenamed(\"_c34\", \"DaysLateLast30\")\\\n",
    "    .withColumnRenamed(\"_c35\", \"Absences\")\n",
    "\n",
    "\n",
    "print(df.printSchema())"
   ]
  },
  {
   "cell_type": "markdown",
   "metadata": {},
   "source": [
    "Preprocessing"
   ]
  },
  {
   "cell_type": "code",
   "execution_count": 68,
   "metadata": {},
   "outputs": [
    {
     "name": "stdout",
     "output_type": "stream",
     "text": [
      "root\n",
      " |-- Employee_Name: string (nullable = true)\n",
      " |-- EmpID: integer (nullable = true)\n",
      " |-- MarriedID: integer (nullable = true)\n",
      " |-- MaritalStatusID: integer (nullable = true)\n",
      " |-- GenderID: integer (nullable = true)\n",
      " |-- EmpStatusID: integer (nullable = true)\n",
      " |-- DeptID: integer (nullable = true)\n",
      " |-- PerfScoreID: integer (nullable = true)\n",
      " |-- FromDiversityJobFairID: integer (nullable = true)\n",
      " |-- Salary: integer (nullable = true)\n",
      " |-- Termd: integer (nullable = true)\n",
      " |-- PositionID: integer (nullable = true)\n",
      " |-- Position: string (nullable = true)\n",
      " |-- State: string (nullable = true)\n",
      " |-- Zip: integer (nullable = true)\n",
      " |-- DOB: string (nullable = true)\n",
      " |-- Sex: string (nullable = true)\n",
      " |-- MaritalDesc: string (nullable = true)\n",
      " |-- CitizenDesc: string (nullable = true)\n",
      " |-- HispanicLatino: string (nullable = true)\n",
      " |-- RaceDesc: string (nullable = true)\n",
      " |-- DateofHire: string (nullable = true)\n",
      " |-- DateofTermination: string (nullable = true)\n",
      " |-- TermReason: string (nullable = true)\n",
      " |-- EmploymentStatus: string (nullable = true)\n",
      " |-- Department: string (nullable = true)\n",
      " |-- ManagerName: string (nullable = true)\n",
      " |-- ManagerID: integer (nullable = true)\n",
      " |-- RecruitmentSource: string (nullable = true)\n",
      " |-- PerformanceScore: string (nullable = true)\n",
      " |-- EngagementSurvey: double (nullable = true)\n",
      " |-- EmpSatisfaction: integer (nullable = true)\n",
      " |-- SpecialProjectsCount: integer (nullable = true)\n",
      " |-- LastPerformanceReview_Date: string (nullable = true)\n",
      " |-- DaysLateLast30: integer (nullable = true)\n",
      " |-- Absences: integer (nullable = true)\n",
      " |-- DaysWorked: integer (nullable = true)\n",
      "\n",
      "None\n"
     ]
    }
   ],
   "source": [
    "# Fill null values\n",
    "df.na.fill( {'TermReason': 'Unknown', 'ManagerID': 0, 'DaysLateLast30': 0, 'DateofTermination': '01/01/2021', 'LastPerformanceReview_Date': '01/01/2021'} )\n",
    "\n",
    "# Converte date-strings to dates\n",
    "#df = df.withColumn('DateofHire', to_date(unix_timestamp(col('DateofHire'), 'dd/MM/yyyy').cast(\"timestamp\")))\n",
    "#df = df.withColumn('DOB', to_date(unix_timestamp(col('DOB'), 'dd/MM/yyyy').cast(\"timestamp\")))\n",
    "#df = df.withColumn('DateofTermination', to_date(unix_timestamp(col('DateofTermination'), 'dd/MM/yyyy').cast(\"timestamp\")))\n",
    "#df = df.withColumn('LastPerformanceReview_Date', to_date(unix_timestamp(col('LastPerformanceReview_Date'), 'dd/MM/yyyy').cast(\"timestamp\")))\n",
    "\n",
    "# Add new column for days worked in company\n",
    "df = df.withColumn(\"DaysWorked\", datediff(col(\"DateofTermination\"), col(\"DateofHire\")))\n",
    "\n",
    "\n",
    "# Print new Schema\n",
    "print(df.printSchema())"
   ]
  },
  {
   "cell_type": "markdown",
   "metadata": {},
   "source": [
    "Show graph"
   ]
  },
  {
   "cell_type": "code",
   "execution_count": 69,
   "metadata": {},
   "outputs": [
    {
     "ename": "NameError",
     "evalue": "name 'sbs' is not defined",
     "output_type": "error",
     "traceback": [
      "\u001b[0;31m---------------------------------------------------------------------------\u001b[0m",
      "\u001b[0;31mNameError\u001b[0m                                 Traceback (most recent call last)",
      "\u001b[0;32m<ipython-input-69-e516cf4c6781>\u001b[0m in \u001b[0;36m<module>\u001b[0;34m\u001b[0m\n\u001b[1;32m      1\u001b[0m \u001b[0mdfPandas\u001b[0m \u001b[0;34m=\u001b[0m \u001b[0mdf\u001b[0m\u001b[0;34m.\u001b[0m\u001b[0mtoPandas\u001b[0m\u001b[0;34m(\u001b[0m\u001b[0;34m)\u001b[0m\u001b[0;34m\u001b[0m\u001b[0;34m\u001b[0m\u001b[0m\n\u001b[0;32m----> 2\u001b[0;31m \u001b[0msbs\u001b[0m\u001b[0;34m.\u001b[0m\u001b[0mcountplot\u001b[0m\u001b[0;34m(\u001b[0m\u001b[0mx\u001b[0m\u001b[0;34m=\u001b[0m\u001b[0mdfPandas\u001b[0m\u001b[0;34m[\u001b[0m\u001b[0;34m'RecruitmentSource'\u001b[0m\u001b[0;34m]\u001b[0m\u001b[0;34m,\u001b[0m\u001b[0mhue\u001b[0m\u001b[0;34m=\u001b[0m\u001b[0mdfPandas\u001b[0m\u001b[0;34m[\u001b[0m\u001b[0;34m'PerformanceScore'\u001b[0m\u001b[0;34m]\u001b[0m\u001b[0;34m)\u001b[0m\u001b[0;34m\u001b[0m\u001b[0;34m\u001b[0m\u001b[0m\n\u001b[0m",
      "\u001b[0;31mNameError\u001b[0m: name 'sbs' is not defined"
     ]
    }
   ],
   "source": [
    "dfPandas = df.toPandas()\n",
    "sbs.countplot(x=dfPandas['RecruitmentSource'],hue=dfPandas['PerformanceScore'])"
   ]
  },
  {
   "cell_type": "code",
   "execution_count": null,
   "metadata": {},
   "outputs": [],
   "source": []
  }
 ],
 "metadata": {
  "kernelspec": {
   "display_name": "Python 3",
   "language": "python",
   "name": "python3"
  },
  "language_info": {
   "codemirror_mode": {
    "name": "ipython",
    "version": 3
   },
   "file_extension": ".py",
   "mimetype": "text/x-python",
   "name": "python",
   "nbconvert_exporter": "python",
   "pygments_lexer": "ipython3",
   "version": "3.8.6"
  }
 },
 "nbformat": 4,
 "nbformat_minor": 4
}
