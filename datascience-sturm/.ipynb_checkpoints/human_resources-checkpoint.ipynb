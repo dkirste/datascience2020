{
 "cells": [
  {
   "cell_type": "markdown",
   "metadata": {},
   "source": [
    "Imports"
   ]
  },
  {
   "cell_type": "code",
   "execution_count": 69,
   "metadata": {},
   "outputs": [],
   "source": [
    "# Imports for pyspark\n",
    "from pyspark.ml.classification import LinearSVC\n",
    "from pyspark.ml.evaluation import BinaryClassificationEvaluator, MulticlassClassificationEvaluator\n",
    "from pyspark.ml.feature import StringIndexer, VectorAssembler\n",
    "from pyspark.ml.pipeline import Pipeline\n",
    "from pyspark.ml.tuning import CrossValidator, ParamGridBuilder\n",
    "from pyspark.mllib.evaluation import MulticlassMetrics\n",
    "from pyspark.sql.session import SparkSession\n",
    "from pyspark.sql.types import BooleanType\n",
    "from pyspark.sql.functions import col, unix_timestamp, to_date, datediff, expr\n",
    "from helper_functions import translate_to_file_string\n",
    "\n",
    "# Import for seaborn\n",
    "import seaborn as sbs\n",
    "\n",
    "# Imports for mathlib\n",
    "%matplotlib inline\n",
    "import seaborn as sbs\n",
    "import matplotlib as mpl\n",
    "import matplotlib.pyplot as plt\n",
    "mpl.rc('axes', labelsize=14)\n",
    "mpl.rc('xtick', labelsize=12)\n",
    "mpl.rc('ytick', labelsize=12)\n",
    "\n"
   ]
  },
  {
   "cell_type": "markdown",
   "metadata": {},
   "source": [
    "Creating Spark Context"
   ]
  },
  {
   "cell_type": "code",
   "execution_count": 70,
   "metadata": {},
   "outputs": [],
   "source": [
    "spark = (SparkSession\n",
    "       .builder\n",
    "       .appName(\"HumanResources\")\n",
    "       .getOrCreate())"
   ]
  },
  {
   "cell_type": "markdown",
   "metadata": {},
   "source": [
    "Setting input file"
   ]
  },
  {
   "cell_type": "code",
   "execution_count": 75,
   "metadata": {},
   "outputs": [
    {
     "name": "stdout",
     "output_type": "stream",
     "text": [
      "+-----------+------------+-----+---------+---------------+--------+-----------+------+-----------+----------------------+------+-----+----------+--------------------+-----+-----+--------+---+-----------+-------------------+--------------+--------------------+----------+-----------------+-----------------+--------------------+--------------------+---------------+---------+--------------------+----------------+----------------+---------------+--------------------+--------------------------+--------------+--------+\n",
      "|EmpLastname|EmpFirstname|EmpID|MarriedID|MaritalStatusID|GenderID|EmpStatusID|DeptID|PerfScoreID|FromDiversityJobFairID|Salary|Termd|PositionID|            Position|State|  Zip|     DOB|Sex|MaritalDesc|        CitizenDesc|HispanicLatino|            RaceDesc|DateofHire|DateofTermination|       TermReason|    EmploymentStatus|          Department|    ManagerName|ManagerID|   RecruitmentSource|PerformanceScore|EngagementSurvey|EmpSatisfaction|SpecialProjectsCount|LastPerformanceReview_Date|DaysLateLast30|Absences|\n",
      "+-----------+------------+-----+---------+---------------+--------+-----------+------+-----------+----------------------+------+-----+----------+--------------------+-----+-----+--------+---+-----------+-------------------+--------------+--------------------+----------+-----------------+-----------------+--------------------+--------------------+---------------+---------+--------------------+----------------+----------------+---------------+--------------------+--------------------------+--------------+--------+\n",
      "|   Adinolfi|   Wilson  K|10026|        0|              0|       1|          1|     5|          4|                     0| 62506|    0|        19|Production Techni...|   MA| 1960|07/10/83| M |     Single|         US Citizen|            No|               White|  7/5/2011|             null|N/A-StillEmployed|              Active|   Production       | Michael Albert|       22|            LinkedIn|         Exceeds|             4.6|              5|                   0|                 1/17/2019|             0|       1|\n",
      "|   Ait Sidi| Karthikeyan|10084|        1|              1|       1|          5|     3|          3|                     0|104437|    1|        27|             Sr. DBA|   MA| 2148|05/05/75| M |    Married|         US Citizen|            No|               White| 3/30/2015|        6/16/2016|    career change|Voluntarily Termi...|               IT/IS|     Simon Roup|        4|              Indeed|     Fully Meets|            4.96|              3|                   6|                 2/24/2016|             0|      17|\n",
      "| Akinkuolie|       Sarah|10196|        1|              1|       0|          5|     5|          3|                     0| 64955|    1|        20|Production Techni...|   MA| 1810|09/19/88|  F|    Married|         US Citizen|            No|               White|  7/5/2011|        9/24/2012|            hours|Voluntarily Termi...|   Production       | Kissy Sullivan|       20|            LinkedIn|     Fully Meets|            3.02|              3|                   0|                 5/15/2012|             0|       3|\n",
      "|     Alagbe|       Trina|10088|        1|              1|       0|          1|     5|          3|                     0| 64991|    0|        19|Production Techni...|   MA| 1886|09/27/88|  F|    Married|         US Citizen|            No|               White|  1/7/2008|             null|N/A-StillEmployed|              Active|   Production       |   Elijiah Gray|       16|              Indeed|     Fully Meets|            4.84|              5|                   0|                  1/3/2019|             0|      15|\n",
      "|   Anderson|       Carol|10069|        0|              2|       0|          5|     5|          3|                     0| 50825|    1|        19|Production Techni...|   MA| 2169|09/08/89|  F|   Divorced|         US Citizen|            No|               White| 7/11/2011|         9/6/2016| return to school|Voluntarily Termi...|   Production       | Webster Butler|       39|       Google Search|     Fully Meets|             5.0|              4|                   0|                  2/1/2016|             0|       2|\n",
      "|   Anderson|       Linda|10002|        0|              0|       0|          1|     5|          4|                     0| 57568|    0|        19|Production Techni...|   MA| 1844|05/22/77|  F|     Single|         US Citizen|            No|               White|  1/9/2012|             null|N/A-StillEmployed|              Active|   Production       |       Amy Dunn|       11|            LinkedIn|         Exceeds|             5.0|              5|                   0|                  1/7/2019|             0|      15|\n",
      "|   Andreola|       Colby|10194|        0|              0|       0|          1|     4|          3|                     0| 95660|    0|        24|   Software Engineer|   MA| 2110|05/24/79|  F|     Single|         US Citizen|            No|               White|11/10/2014|             null|N/A-StillEmployed|              Active|Software Engineering|Alex Sweetwater|       10|            LinkedIn|     Fully Meets|            3.04|              3|                   4|                  1/2/2019|             0|      19|\n",
      "|     Athwal|         Sam|10062|        0|              4|       1|          1|     5|          3|                     0| 59365|    0|        19|Production Techni...|   MA| 2199|02/18/83| M |    Widowed|         US Citizen|            No|               White| 9/30/2013|             null|N/A-StillEmployed|              Active|   Production       |  Ketsia Liebig|       19|   Employee Referral|     Fully Meets|             5.0|              4|                   0|                 2/25/2019|             0|      19|\n",
      "|  Bachiochi|       Linda|10114|        0|              0|       0|          3|     5|          3|                     1| 47837|    0|        19|Production Techni...|   MA| 1902|02/11/70|  F|     Single|         US Citizen|            No|Black or African ...|  7/6/2009|             null|N/A-StillEmployed|              Active|   Production       | Brannon Miller|       12|  Diversity Job Fair|     Fully Meets|            4.46|              3|                   0|                 1/25/2019|             0|       4|\n",
      "|     Bacong|   Alejandro|10250|        0|              2|       1|          1|     3|          3|                     0| 50178|    0|        14|          IT Support|   MA| 1886|01/07/88| M |   Divorced|         US Citizen|            No|               White|  1/5/2015|             null|N/A-StillEmployed|              Active|               IT/IS|   Peter Monroe|        7|              Indeed|     Fully Meets|             5.0|              5|                   6|                 2/18/2019|             0|      16|\n",
      "|  Baczenski|     Rachael|10252|        1|              1|       0|          5|     5|          3|                     1| 54670|    1|        19|Production Techni...|   MA| 1902|01/12/74|  F|    Married|         US Citizen|           Yes|Black or African ...| 1/10/2011|        1/12/2017| Another position|Voluntarily Termi...|   Production       |  David Stanley|       14|  Diversity Job Fair|     Fully Meets|             4.2|              4|                   0|                 1/30/2016|             0|      12|\n",
      "|    Barbara|      Thomas|10242|        1|              1|       1|          5|     5|          3|                     1| 47211|    1|        19|Production Techni...|   MA| 2062|02/21/74| M |    Married|         US Citizen|           Yes|Black or African ...|  4/2/2012|        9/19/2016|          unhappy|Voluntarily Termi...|   Production       | Kissy Sullivan|       20|  Diversity Job Fair|     Fully Meets|             4.2|              3|                   0|                  5/6/2016|             0|      15|\n",
      "|   Barbossa|      Hector|10012|        0|              2|       1|          1|     3|          4|                     1| 92328|    0|         9|        Data Analyst|   TX|78230|07/04/88| M |   Divorced|         US Citizen|            No|Black or African ...|11/10/2014|             null|N/A-StillEmployed|              Active|               IT/IS|     Simon Roup|        4|  Diversity Job Fair|         Exceeds|            4.28|              4|                   5|                 2/25/2019|             0|       9|\n",
      "|     Barone|Francesco  A|10265|        0|              0|       1|          1|     5|          3|                     0| 58709|    0|        19|Production Techni...|   MA| 1810|07/20/83| M |     Single|         US Citizen|            No|   Two or more races| 2/20/2012|             null|N/A-StillEmployed|              Active|   Production       |  Kelley Spirea|       18|       Google Search|     Fully Meets|             4.6|              4|                   0|                 2/14/2019|             0|       7|\n",
      "|     Barton|       Nader|10066|        0|              2|       1|          5|     5|          3|                     0| 52505|    1|        19|Production Techni...|   MA| 2747|07/15/77| M |   Divorced|         US Citizen|            No|               White| 9/24/2012|         4/6/2017| Another position|Voluntarily Termi...|   Production       | Michael Albert|       22|On-line Web appli...|     Fully Meets|             5.0|              5|                   0|                  3/2/2017|             0|       1|\n",
      "|      Bates|      Norman|10061|        0|              0|       1|          4|     5|          3|                     0| 57834|    1|        19|Production Techni...|   MA| 2050|10/18/81| M |     Single|         US Citizen|            No|               White| 2/21/2011|         8/4/2017|       attendance|Terminated for Cause|   Production       |  Kelley Spirea|       18|       Google Search|     Fully Meets|             5.0|              4|                   0|                  4/5/2017|             0|      20|\n",
      "|       Beak|    Kimberly|10023|        1|              1|       0|          2|     5|          4|                     0| 70131|    0|        20|Production Techni...|   MA| 2145|04/17/66|  F|    Married|         US Citizen|            No|               White| 7/21/2016|             null|N/A-StillEmployed|              Active|   Production       |  Kelley Spirea|       18|   Employee Referral|         Exceeds|             4.4|              3|                   0|                 1/14/2019|             0|      16|\n",
      "|   Beatrice|    Courtney|10055|        0|              0|       0|          1|     5|          3|                     0| 59026|    0|        19|Production Techni...|   MA| 1915|10/27/70|  F|     Single|Eligible NonCitizen|            No|               White|  4/4/2011|             null|N/A-StillEmployed|              Active|   Production       |   Elijiah Gray|       16|       Google Search|     Fully Meets|             5.0|              5|                   0|                 1/14/2019|             0|      12|\n",
      "|     Becker|       Renee|10245|        0|              0|       0|          4|     3|          3|                     0|110000|    1|         8|Database Administ...|   MA| 2026|04/04/86|  F|     Single|         US Citizen|           Yes|               White|  7/7/2014|        9/12/2015|      performance|Terminated for Cause|               IT/IS|     Simon Roup|        4|       Google Search|     Fully Meets|             4.5|              4|                   5|                 1/15/2015|             0|       8|\n",
      "|     Becker|       Scott|10277|        0|              0|       1|          3|     5|          3|                     0| 53250|    0|        19|Production Techni...|   MA| 2452|04/06/79| M |     Single|         US Citizen|            No|               Asian|  7/8/2013|             null|N/A-StillEmployed|              Active|   Production       | Webster Butler|     null|            LinkedIn|     Fully Meets|             4.2|              4|                   0|                 1/11/2019|             0|      13|\n",
      "+-----------+------------+-----+---------+---------------+--------+-----------+------+-----------+----------------------+------+-----+----------+--------------------+-----+-----+--------+---+-----------+-------------------+--------------+--------------------+----------+-----------------+-----------------+--------------------+--------------------+---------------+---------+--------------------+----------------+----------------+---------------+--------------------+--------------------------+--------------+--------+\n",
      "only showing top 20 rows\n",
      "\n",
      "None\n",
      "root\n",
      " |-- EmpLastname: string (nullable = true)\n",
      " |-- EmpFirstname: string (nullable = true)\n",
      " |-- EmpID: integer (nullable = true)\n",
      " |-- MarriedID: integer (nullable = true)\n",
      " |-- MaritalStatusID: integer (nullable = true)\n",
      " |-- GenderID: integer (nullable = true)\n",
      " |-- EmpStatusID: integer (nullable = true)\n",
      " |-- DeptID: integer (nullable = true)\n",
      " |-- PerfScoreID: integer (nullable = true)\n",
      " |-- FromDiversityJobFairID: integer (nullable = true)\n",
      " |-- Salary: integer (nullable = true)\n",
      " |-- Termd: integer (nullable = true)\n",
      " |-- PositionID: integer (nullable = true)\n",
      " |-- Position: string (nullable = true)\n",
      " |-- State: string (nullable = true)\n",
      " |-- Zip: integer (nullable = true)\n",
      " |-- DOB: string (nullable = true)\n",
      " |-- Sex: string (nullable = true)\n",
      " |-- MaritalDesc: string (nullable = true)\n",
      " |-- CitizenDesc: string (nullable = true)\n",
      " |-- HispanicLatino: string (nullable = true)\n",
      " |-- RaceDesc: string (nullable = true)\n",
      " |-- DateofHire: string (nullable = true)\n",
      " |-- DateofTermination: string (nullable = true)\n",
      " |-- TermReason: string (nullable = true)\n",
      " |-- EmploymentStatus: string (nullable = true)\n",
      " |-- Department: string (nullable = true)\n",
      " |-- ManagerName: string (nullable = true)\n",
      " |-- ManagerID: integer (nullable = true)\n",
      " |-- RecruitmentSource: string (nullable = true)\n",
      " |-- PerformanceScore: string (nullable = true)\n",
      " |-- EngagementSurvey: double (nullable = true)\n",
      " |-- EmpSatisfaction: integer (nullable = true)\n",
      " |-- SpecialProjectsCount: integer (nullable = true)\n",
      " |-- LastPerformanceReview_Date: string (nullable = true)\n",
      " |-- DaysLateLast30: integer (nullable = true)\n",
      " |-- Absences: integer (nullable = true)\n",
      "\n",
      "None\n"
     ]
    }
   ],
   "source": [
    "inputFile = translate_to_file_string(\"./HRDataset.csv\")\n",
    "# load data file.\n",
    "# create a DataFrame using an ifered Schema\n",
    "df = spark.read.option(\"header\", \"true\") \\\n",
    "    .option(\"inferSchema\", \"true\") \\\n",
    "    .option(\"delimiter\", \",\") \\\n",
    "    .csv(inputFile) \\\n",
    "    .withColumnRenamed(\"_c0\", \"EmpLastname\")\\\n",
    "    .withColumnRenamed(\"_c1\", \"EmpFirstname\")\\\n",
    "    .withColumnRenamed(\"_c2\", \"EmpID\")\\\n",
    "    .withColumnRenamed(\"_c3\", \"MarriedID\")\\\n",
    "    .withColumnRenamed(\"_c4\", \"MaritalStatusID\")\\\n",
    "    .withColumnRenamed(\"_c5\", \"GenderID\")\\\n",
    "    .withColumnRenamed(\"_c6\", \"EmpStatusID\")\\\n",
    "    .withColumnRenamed(\"_c7\", \"DeptID\")\\\n",
    "    .withColumnRenamed(\"_c8\", \"PerfScoreID\")\\\n",
    "    .withColumnRenamed(\"_c9\", \"FromDiversityJobFairID\")\\\n",
    "    .withColumnRenamed(\"_c10\", \"Salary\")\\\n",
    "    .withColumnRenamed(\"_c11\", \"Termd\")\\\n",
    "    .withColumnRenamed(\"_c12\", \"PositionID\")\\\n",
    "    .withColumnRenamed(\"_c13\", \"Position\")\\\n",
    "    .withColumnRenamed(\"_c14\", \"State\")\\\n",
    "    .withColumnRenamed(\"_c15\", \"Zip\")\\\n",
    "    .withColumnRenamed(\"_c16\", \"DOB\")\\\n",
    "    .withColumnRenamed(\"_c17\", \"Sex\")\\\n",
    "    .withColumnRenamed(\"_c18\", \"MaritalDesc\")\\\n",
    "    .withColumnRenamed(\"_c19\", \"CitizenDesc\")\\\n",
    "    .withColumnRenamed(\"_c20\", \"HispanicLatino\")\\\n",
    "    .withColumnRenamed(\"_c21\", \"RaceDesc\")\\\n",
    "    .withColumnRenamed(\"_c22\", \"DateofHire\")\\\n",
    "    .withColumnRenamed(\"_c23\", \"DateofTermination\")\\\n",
    "    .withColumnRenamed(\"_c24\", \"TermReason\")\\\n",
    "    .withColumnRenamed(\"_c25\", \"EmploymentStatus\")\\\n",
    "    .withColumnRenamed(\"_c26\", \"Department\")\\\n",
    "    .withColumnRenamed(\"_c27\", \"ManagerName\")\\\n",
    "    .withColumnRenamed(\"_c28\", \"ManagerID\")\\\n",
    "    .withColumnRenamed(\"_c29\", \"RecruitmentSource\")\\\n",
    "    .withColumnRenamed(\"_c30\", \"PerformanceScore\")\\\n",
    "    .withColumnRenamed(\"_c31\", \"EngagementSurvey\")\\\n",
    "    .withColumnRenamed(\"_c32\", \"EmpSatisfaction\")\\\n",
    "    .withColumnRenamed(\"_c33\", \"SpecialProjectsCount\")\\\n",
    "    .withColumnRenamed(\"_c34\", \"LastPerformanceReview_Date\")\\\n",
    "    .withColumnRenamed(\"_c35\", \"DaysLateLast30\")\\\n",
    "    .withColumnRenamed(\"_c36\", \"Absences\")\n",
    "\n",
    "print(df.printSchema())"
   ]
  },
  {
   "cell_type": "markdown",
   "metadata": {},
   "source": [
    "This is an initial analysis of the HR dataset:\n",
    "Creation of a barplot consisting of 2 axes: (x) recruitment score with a \"hue\"/variation of different performance scores categories (y) percentage. The goal of this graph is the visualization in how good a employee performs in relation to from which source he has been recruited."
   ]
  },
  {
   "cell_type": "code",
   "execution_count": 72,
   "metadata": {},
   "outputs": [
    {
     "data": {
      "text/plain": [
       "(array([0, 1, 2, 3, 4, 5, 6, 7, 8]),\n",
       " [Text(0, 0, 'Website'),\n",
       "  Text(1, 0, 'CareerBuilder'),\n",
       "  Text(2, 0, 'Diversity Job Fair'),\n",
       "  Text(3, 0, 'LinkedIn'),\n",
       "  Text(4, 0, 'Employee Referral'),\n",
       "  Text(5, 0, 'Indeed'),\n",
       "  Text(6, 0, 'Google Search'),\n",
       "  Text(7, 0, 'Other'),\n",
       "  Text(8, 0, 'On-line Web application')])"
      ]
     },
     "execution_count": 72,
     "metadata": {},
     "output_type": "execute_result"
    },
    {
     "data": {
      "image/png": "[encoded data removed]",
      "text/plain": [
       "<Figure size 1080x360 with 1 Axes>"
      ]
     },
     "metadata": {
      "needs_background": "light"
     },
     "output_type": "display_data"
    }
   ],
   "source": [
    "plt.figure(figsize=(15,5))\n",
    "dfPandas= df.toPandas()\n",
    "perfscore_percentage = (dfPandas.groupby(['RecruitmentSource'])['PerformanceScore']\n",
    "                     .value_counts(normalize=True)\n",
    "                     .rename('percentage')\n",
    "                     .mul(100)\n",
    "                     .reset_index()\n",
    "                     .sort_values('PerformanceScore'))\n",
    "sbs.barplot(x=\"RecruitmentSource\", y=\"percentage\", hue=\"PerformanceScore\", data=perfscore_percentage)\n",
    "plt.xticks(rotation = 30)"
   ]
  },
  {
   "cell_type": "markdown",
   "metadata": {},
   "source": [
    "Preprocessing"
   ]
  },
  {
   "cell_type": "code",
   "execution_count": 77,
   "metadata": {},
   "outputs": [
    {
     "ename": "AnalysisException",
     "evalue": "cannot resolve 'unix_timestamp(`DateofHire`, 'dd/MM/yyyy')' due to data type mismatch: argument 1 requires (string or date or timestamp) type, however, '`DateofHire`' is of bigint type.;;\n'Project [EmpLastname#21850, EmpFirstname#21851, EmpID#21852, MarriedID#21853, MaritalStatusID#21854, GenderID#21855, EmpStatusID#21856, DeptID#21857, PerfScoreID#21858, FromDiversityJobFairID#21859, Salary#21860, Termd#21861, PositionID#21862, Position#21863, State#21864, Zip#21865, DOB#23596L, Sex#21867, MaritalDesc#21868, CitizenDesc#21869, HispanicLatino#21870, RaceDesc#21871, unix_timestamp(DateofHire#23558L, dd/MM/yyyy, Some(Etc/UTC)) AS DateofHire#23789, DateofTermination#23634L, ... 13 more fields]\n+- Project [EmpLastname#21850, EmpFirstname#21851, EmpID#21852, MarriedID#21853, MaritalStatusID#21854, GenderID#21855, EmpStatusID#21856, DeptID#21857, PerfScoreID#21858, FromDiversityJobFairID#21859, Salary#21860, Termd#21861, PositionID#21862, Position#21863, State#21864, Zip#21865, DOB#23596L, Sex#21867, MaritalDesc#21868, CitizenDesc#21869, HispanicLatino#21870, RaceDesc#21871, DateofHire#23558L, DateofTermination#23634L, ... 13 more fields]\n   +- Project [EmpLastname#21850, EmpFirstname#21851, EmpID#21852, MarriedID#21853, MaritalStatusID#21854, GenderID#21855, EmpStatusID#21856, DeptID#21857, PerfScoreID#21858, FromDiversityJobFairID#21859, Salary#21860, Termd#21861, PositionID#21862, Position#21863, State#21864, Zip#21865, DOB#23596L, Sex#21867, MaritalDesc#21868, CitizenDesc#21869, HispanicLatino#21870, RaceDesc#21871, DateofHire#23558L, unix_timestamp(DateofTermination#21873, dd/MM/yyyy, Some(Etc/UTC)) AS DateofTermination#23634L, ... 13 more fields]\n      +- Project [EmpLastname#21850, EmpFirstname#21851, EmpID#21852, MarriedID#21853, MaritalStatusID#21854, GenderID#21855, EmpStatusID#21856, DeptID#21857, PerfScoreID#21858, FromDiversityJobFairID#21859, Salary#21860, Termd#21861, PositionID#21862, Position#21863, State#21864, Zip#21865, unix_timestamp(DOB#21866, dd/MM/yyyy, Some(Etc/UTC)) AS DOB#23596L, Sex#21867, MaritalDesc#21868, CitizenDesc#21869, HispanicLatino#21870, RaceDesc#21871, DateofHire#23558L, DateofTermination#21873, ... 13 more fields]\n         +- Project [EmpLastname#21850, EmpFirstname#21851, EmpID#21852, MarriedID#21853, MaritalStatusID#21854, GenderID#21855, EmpStatusID#21856, DeptID#21857, PerfScoreID#21858, FromDiversityJobFairID#21859, Salary#21860, Termd#21861, PositionID#21862, Position#21863, State#21864, Zip#21865, DOB#21866, Sex#21867, MaritalDesc#21868, CitizenDesc#21869, HispanicLatino#21870, RaceDesc#21871, unix_timestamp(DateofHire#21872, dd/MM/yyyy, Some(Etc/UTC)) AS DateofHire#23558L, DateofTermination#21873, ... 13 more fields]\n            +- Relation[EmpLastname#21850,EmpFirstname#21851,EmpID#21852,MarriedID#21853,MaritalStatusID#21854,GenderID#21855,EmpStatusID#21856,DeptID#21857,PerfScoreID#21858,FromDiversityJobFairID#21859,Salary#21860,Termd#21861,PositionID#21862,Position#21863,State#21864,Zip#21865,DOB#21866,Sex#21867,MaritalDesc#21868,CitizenDesc#21869,HispanicLatino#21870,RaceDesc#21871,DateofHire#21872,DateofTermination#21873,... 13 more fields] csv\n",
     "output_type": "error",
     "traceback": [
      "\u001b[0;31m---------------------------------------------------------------------------\u001b[0m",
      "\u001b[0;31mAnalysisException\u001b[0m                         Traceback (most recent call last)",
      "\u001b[0;32m<ipython-input-77-38ead37572f4>\u001b[0m in \u001b[0;36m<module>\u001b[0;34m\u001b[0m\n\u001b[1;32m      3\u001b[0m \u001b[0;34m\u001b[0m\u001b[0m\n\u001b[1;32m      4\u001b[0m \u001b[0;31m# Converte date-strings to dates\u001b[0m\u001b[0;34m\u001b[0m\u001b[0;34m\u001b[0m\u001b[0;34m\u001b[0m\u001b[0m\n\u001b[0;32m----> 5\u001b[0;31m \u001b[0mdf\u001b[0m \u001b[0;34m=\u001b[0m \u001b[0mdf\u001b[0m\u001b[0;34m.\u001b[0m\u001b[0mwithColumn\u001b[0m\u001b[0;34m(\u001b[0m\u001b[0;34m'DateofHire'\u001b[0m\u001b[0;34m,\u001b[0m \u001b[0munix_timestamp\u001b[0m\u001b[0;34m(\u001b[0m\u001b[0mcol\u001b[0m\u001b[0;34m(\u001b[0m\u001b[0;34m'DateofHire'\u001b[0m\u001b[0;34m)\u001b[0m\u001b[0;34m,\u001b[0m \u001b[0;34m'dd/MM/yyyy'\u001b[0m\u001b[0;34m)\u001b[0m\u001b[0;34m)\u001b[0m\u001b[0;34m\u001b[0m\u001b[0;34m\u001b[0m\u001b[0m\n\u001b[0m\u001b[1;32m      6\u001b[0m \u001b[0mdf\u001b[0m \u001b[0;34m=\u001b[0m \u001b[0mdf\u001b[0m\u001b[0;34m.\u001b[0m\u001b[0mwithColumn\u001b[0m\u001b[0;34m(\u001b[0m\u001b[0;34m'DOB'\u001b[0m\u001b[0;34m,\u001b[0m \u001b[0munix_timestamp\u001b[0m\u001b[0;34m(\u001b[0m\u001b[0mcol\u001b[0m\u001b[0;34m(\u001b[0m\u001b[0;34m'DOB'\u001b[0m\u001b[0;34m)\u001b[0m\u001b[0;34m,\u001b[0m \u001b[0;34m'dd/MM/yyyy'\u001b[0m\u001b[0;34m)\u001b[0m\u001b[0;34m)\u001b[0m\u001b[0;34m\u001b[0m\u001b[0;34m\u001b[0m\u001b[0m\n\u001b[1;32m      7\u001b[0m \u001b[0mdf\u001b[0m \u001b[0;34m=\u001b[0m \u001b[0mdf\u001b[0m\u001b[0;34m.\u001b[0m\u001b[0mwithColumn\u001b[0m\u001b[0;34m(\u001b[0m\u001b[0;34m'DateofTermination'\u001b[0m\u001b[0;34m,\u001b[0m \u001b[0munix_timestamp\u001b[0m\u001b[0;34m(\u001b[0m\u001b[0mcol\u001b[0m\u001b[0;34m(\u001b[0m\u001b[0;34m'DateofTermination'\u001b[0m\u001b[0;34m)\u001b[0m\u001b[0;34m,\u001b[0m \u001b[0;34m'dd/MM/yyyy'\u001b[0m\u001b[0;34m)\u001b[0m\u001b[0;34m)\u001b[0m\u001b[0;34m\u001b[0m\u001b[0;34m\u001b[0m\u001b[0m\n",
      "\u001b[0;32m/usr/local/spark/python/pyspark/sql/dataframe.py\u001b[0m in \u001b[0;36mwithColumn\u001b[0;34m(self, colName, col)\u001b[0m\n\u001b[1;32m   2094\u001b[0m         \"\"\"\n\u001b[1;32m   2095\u001b[0m         \u001b[0;32massert\u001b[0m \u001b[0misinstance\u001b[0m\u001b[0;34m(\u001b[0m\u001b[0mcol\u001b[0m\u001b[0;34m,\u001b[0m \u001b[0mColumn\u001b[0m\u001b[0;34m)\u001b[0m\u001b[0;34m,\u001b[0m \u001b[0;34m\"col should be Column\"\u001b[0m\u001b[0;34m\u001b[0m\u001b[0;34m\u001b[0m\u001b[0m\n\u001b[0;32m-> 2096\u001b[0;31m         \u001b[0;32mreturn\u001b[0m \u001b[0mDataFrame\u001b[0m\u001b[0;34m(\u001b[0m\u001b[0mself\u001b[0m\u001b[0;34m.\u001b[0m\u001b[0m_jdf\u001b[0m\u001b[0;34m.\u001b[0m\u001b[0mwithColumn\u001b[0m\u001b[0;34m(\u001b[0m\u001b[0mcolName\u001b[0m\u001b[0;34m,\u001b[0m \u001b[0mcol\u001b[0m\u001b[0;34m.\u001b[0m\u001b[0m_jc\u001b[0m\u001b[0;34m)\u001b[0m\u001b[0;34m,\u001b[0m \u001b[0mself\u001b[0m\u001b[0;34m.\u001b[0m\u001b[0msql_ctx\u001b[0m\u001b[0;34m)\u001b[0m\u001b[0;34m\u001b[0m\u001b[0;34m\u001b[0m\u001b[0m\n\u001b[0m\u001b[1;32m   2097\u001b[0m \u001b[0;34m\u001b[0m\u001b[0m\n\u001b[1;32m   2098\u001b[0m     \u001b[0;34m@\u001b[0m\u001b[0mignore_unicode_prefix\u001b[0m\u001b[0;34m\u001b[0m\u001b[0;34m\u001b[0m\u001b[0m\n",
      "\u001b[0;32m/usr/local/spark/python/lib/py4j-0.10.9-src.zip/py4j/java_gateway.py\u001b[0m in \u001b[0;36m__call__\u001b[0;34m(self, *args)\u001b[0m\n\u001b[1;32m   1302\u001b[0m \u001b[0;34m\u001b[0m\u001b[0m\n\u001b[1;32m   1303\u001b[0m         \u001b[0manswer\u001b[0m \u001b[0;34m=\u001b[0m \u001b[0mself\u001b[0m\u001b[0;34m.\u001b[0m\u001b[0mgateway_client\u001b[0m\u001b[0;34m.\u001b[0m\u001b[0msend_command\u001b[0m\u001b[0;34m(\u001b[0m\u001b[0mcommand\u001b[0m\u001b[0;34m)\u001b[0m\u001b[0;34m\u001b[0m\u001b[0;34m\u001b[0m\u001b[0m\n\u001b[0;32m-> 1304\u001b[0;31m         return_value = get_return_value(\n\u001b[0m\u001b[1;32m   1305\u001b[0m             answer, self.gateway_client, self.target_id, self.name)\n\u001b[1;32m   1306\u001b[0m \u001b[0;34m\u001b[0m\u001b[0m\n",
      "\u001b[0;32m/usr/local/spark/python/pyspark/sql/utils.py\u001b[0m in \u001b[0;36mdeco\u001b[0;34m(*a, **kw)\u001b[0m\n\u001b[1;32m    132\u001b[0m                 \u001b[0;31m# Hide where the exception came from that shows a non-Pythonic\u001b[0m\u001b[0;34m\u001b[0m\u001b[0;34m\u001b[0m\u001b[0;34m\u001b[0m\u001b[0m\n\u001b[1;32m    133\u001b[0m                 \u001b[0;31m# JVM exception message.\u001b[0m\u001b[0;34m\u001b[0m\u001b[0;34m\u001b[0m\u001b[0;34m\u001b[0m\u001b[0m\n\u001b[0;32m--> 134\u001b[0;31m                 \u001b[0mraise_from\u001b[0m\u001b[0;34m(\u001b[0m\u001b[0mconverted\u001b[0m\u001b[0;34m)\u001b[0m\u001b[0;34m\u001b[0m\u001b[0;34m\u001b[0m\u001b[0m\n\u001b[0m\u001b[1;32m    135\u001b[0m             \u001b[0;32melse\u001b[0m\u001b[0;34m:\u001b[0m\u001b[0;34m\u001b[0m\u001b[0;34m\u001b[0m\u001b[0m\n\u001b[1;32m    136\u001b[0m                 \u001b[0;32mraise\u001b[0m\u001b[0;34m\u001b[0m\u001b[0;34m\u001b[0m\u001b[0m\n",
      "\u001b[0;32m/usr/local/spark/python/pyspark/sql/utils.py\u001b[0m in \u001b[0;36mraise_from\u001b[0;34m(e)\u001b[0m\n",
      "\u001b[0;31mAnalysisException\u001b[0m: cannot resolve 'unix_timestamp(`DateofHire`, 'dd/MM/yyyy')' due to data type mismatch: argument 1 requires (string or date or timestamp) type, however, '`DateofHire`' is of bigint type.;;\n'Project [EmpLastname#21850, EmpFirstname#21851, EmpID#21852, MarriedID#21853, MaritalStatusID#21854, GenderID#21855, EmpStatusID#21856, DeptID#21857, PerfScoreID#21858, FromDiversityJobFairID#21859, Salary#21860, Termd#21861, PositionID#21862, Position#21863, State#21864, Zip#21865, DOB#23596L, Sex#21867, MaritalDesc#21868, CitizenDesc#21869, HispanicLatino#21870, RaceDesc#21871, unix_timestamp(DateofHire#23558L, dd/MM/yyyy, Some(Etc/UTC)) AS DateofHire#23789, DateofTermination#23634L, ... 13 more fields]\n+- Project [EmpLastname#21850, EmpFirstname#21851, EmpID#21852, MarriedID#21853, MaritalStatusID#21854, GenderID#21855, EmpStatusID#21856, DeptID#21857, PerfScoreID#21858, FromDiversityJobFairID#21859, Salary#21860, Termd#21861, PositionID#21862, Position#21863, State#21864, Zip#21865, DOB#23596L, Sex#21867, MaritalDesc#21868, CitizenDesc#21869, HispanicLatino#21870, RaceDesc#21871, DateofHire#23558L, DateofTermination#23634L, ... 13 more fields]\n   +- Project [EmpLastname#21850, EmpFirstname#21851, EmpID#21852, MarriedID#21853, MaritalStatusID#21854, GenderID#21855, EmpStatusID#21856, DeptID#21857, PerfScoreID#21858, FromDiversityJobFairID#21859, Salary#21860, Termd#21861, PositionID#21862, Position#21863, State#21864, Zip#21865, DOB#23596L, Sex#21867, MaritalDesc#21868, CitizenDesc#21869, HispanicLatino#21870, RaceDesc#21871, DateofHire#23558L, unix_timestamp(DateofTermination#21873, dd/MM/yyyy, Some(Etc/UTC)) AS DateofTermination#23634L, ... 13 more fields]\n      +- Project [EmpLastname#21850, EmpFirstname#21851, EmpID#21852, MarriedID#21853, MaritalStatusID#21854, GenderID#21855, EmpStatusID#21856, DeptID#21857, PerfScoreID#21858, FromDiversityJobFairID#21859, Salary#21860, Termd#21861, PositionID#21862, Position#21863, State#21864, Zip#21865, unix_timestamp(DOB#21866, dd/MM/yyyy, Some(Etc/UTC)) AS DOB#23596L, Sex#21867, MaritalDesc#21868, CitizenDesc#21869, HispanicLatino#21870, RaceDesc#21871, DateofHire#23558L, DateofTermination#21873, ... 13 more fields]\n         +- Project [EmpLastname#21850, EmpFirstname#21851, EmpID#21852, MarriedID#21853, MaritalStatusID#21854, GenderID#21855, EmpStatusID#21856, DeptID#21857, PerfScoreID#21858, FromDiversityJobFairID#21859, Salary#21860, Termd#21861, PositionID#21862, Position#21863, State#21864, Zip#21865, DOB#21866, Sex#21867, MaritalDesc#21868, CitizenDesc#21869, HispanicLatino#21870, RaceDesc#21871, unix_timestamp(DateofHire#21872, dd/MM/yyyy, Some(Etc/UTC)) AS DateofHire#23558L, DateofTermination#21873, ... 13 more fields]\n            +- Relation[EmpLastname#21850,EmpFirstname#21851,EmpID#21852,MarriedID#21853,MaritalStatusID#21854,GenderID#21855,EmpStatusID#21856,DeptID#21857,PerfScoreID#21858,FromDiversityJobFairID#21859,Salary#21860,Termd#21861,PositionID#21862,Position#21863,State#21864,Zip#21865,DOB#21866,Sex#21867,MaritalDesc#21868,CitizenDesc#21869,HispanicLatino#21870,RaceDesc#21871,DateofHire#21872,DateofTermination#21873,... 13 more fields] csv\n"
     ]
    }
   ],
   "source": [
    "# Fill null values\n",
    "df.na.fill( {'TermReason': 'Unknown', 'ManagerID': 0, 'DaysLateLast30': 0, 'DateofTermination': '01/01/2021', 'LastPerformanceReview_Date': '01/01/2021'} )\n",
    "print(df.printSchema())\n",
    "# Converte date-strings to dates\n",
    "df = df.withColumn('DateofHire', unix_timestamp(col('DateofHire'), 'dd/MM/yyyy'))\n",
    "df = df.withColumn('DOB', unix_timestamp(col('DOB'), 'dd/MM/yyyy'))\n",
    "df = df.withColumn('DateofTermination', unix_timestamp(col('DateofTermination'), 'dd/MM/yyyy'))\n",
    "df = df.withColumn('LastPerformanceReview_Date', unix_timestamp(col('LastPerformanceReview_Date'), 'dd/MM/yyyy'))\n",
    "# Add new column for days worked in company\n",
    "df = df.withColumn(\"DaysWorked\", datediff(col(\"DateofTermination\"), col(\"DateofHire\")))\n",
    "\n",
    "# Manmeet cleaning sex and payrate\n",
    "\n",
    "# Print new Schema\n",
    "print(df.printSchema())"
   ]
  },
  {
   "cell_type": "markdown",
   "metadata": {},
   "source": [
    "Rouven: Scatter plot "
   ]
  },
  {
   "cell_type": "code",
   "execution_count": null,
   "metadata": {},
   "outputs": [],
   "source": [
    "empLastnameIndexer = StringIndexer().setInputCol(\"EmpLastname\").setOutputCol(\"EmpLastname-num\").fit(df)\n",
    "empFirstnameIndexer = StringIndexer().setInputCol(\"EmpFirstname\").setOutputCol(\"EmpFirstname-num\").fit(df)\n",
    "positionIndexer = StringIndexer().setInputCol(\"Position\").setOutputCol(\"Position-num\").fit(df)\n",
    "stateIdIndexer = StringIndexer().setInputCol(\"State\").setOutputCol(\"State-num\").fit(df)\n",
    "sexIndexer = StringIndexer().setInputCol(\"Sex\").setOutputCol(\"Sex-num\").fit(df)\n",
    "maritalDescIndexer = StringIndexer().setInputCol(\"MaritalDesc\").setOutputCol(\"MaritalDesc-num\").fit(df)\n",
    "citizenDescIndexer = StringIndexer().setInputCol(\"CitizenDesc\").setOutputCol(\"CitizenDesc-num\").fit(df)\n",
    "hispanicLatinoIndexer = StringIndexer().setInputCol(\"HispanicLatino\").setOutputCol(\"HispanicLatino-num\").fit(df)\n",
    "raceDescIndexer = StringIndexer().setInputCol(\"RaceDesc\").setOutputCol(\"RaceDesc-num\").fit(df)\n",
    "termReasonIndexer = StringIndexer().setInputCol(\"TermReason\").setOutputCol(\"TermReason-num\").fit(df)\n",
    "empStatusIndexer = StringIndexer().setInputCol(\"EmploymentStatus\").setOutputCol(\"EmploymentStatus-num\").fit(df)\n",
    "departmentIndexer = StringIndexer().setInputCol(\"Department\").setOutputCol(\"Department-num\").fit(df)\n",
    "managerNameIndexer = StringIndexer().setInputCol(\"ManagerName\").setOutputCol(\"ManagerName-num\").fit(df)\n",
    "recruitSourceIndexer = StringIndexer().setInputCol(\"RecruitmentSource\").setOutputCol(\"RecruitmentSource-num\").fit(df)\n",
    "performanceScoreIndexer = StringIndexer().setInputCol(\"PerformanceScore\").setOutputCol(\"PerformanceScore-num\").fit(df)"
   ]
  },
  {
   "cell_type": "code",
   "execution_count": null,
   "metadata": {},
   "outputs": [],
   "source": [
    "featureCols = df.columns.copy()\n",
    "featureCols.remove(\"EmpLastname\")\n",
    "featureCols.remove(\"EmpFirstname\")\n",
    "featureCols.remove(\"Position\")\n",
    "featureCols.remove(\"State\")\n",
    "featureCols.remove(\"Sex\")\n",
    "featureCols.remove(\"MaritalDesc\")\n",
    "featureCols.remove(\"HispanicLatino\")\n",
    "featureCols.remove(\"RaceDesc\")\n",
    "featureCols.remove(\"TermReason\")\n",
    "featureCols.remove(\"EmploymentStatus\")\n",
    "featureCols.remove(\"Department\")\n",
    "featureCols.remove(\"ManagerName\")\n",
    "featureCols.remove(\"RecruitmentSource\")\n",
    "featureCols.remove(\"PerformanceScore\")\n",
    "featureCols = featureCols +[\"EmpLastname-num\", \"EmpFirstname-num\",\"Position-num\",\"State-num\",\"Sex-num\", \"MaritalDesc-num\", \"HispanicLatino-num\", \"RaceDesc-num\", \"TermReason-num\", \"EmploymentStatus-num\", \"Department-num\", \"ManagerName-num\", \"RecruitmentSource-num\", \"PerformanceScore-num\"]"
   ]
  },
  {
   "cell_type": "code",
   "execution_count": null,
   "metadata": {},
   "outputs": [],
   "source": [
    "assembler =  VectorAssembler(outputCol=\"features\", inputCols=list(featureCols))\n",
    "\n",
    "labeledData = labelIndexer.transform(df)\n",
    "print(labeledData.printSchema())"
   ]
  },
  {
   "cell_type": "code",
   "execution_count": null,
   "metadata": {},
   "outputs": [],
   "source": [
    "labeledData = labelIndexer.transform(df)\n",
    "print(labeledData.printSchema())\n",
    "# pipeline all indexers\n",
    "indexedLabeledData = positionIndexer.transform(stateIdIndexer.transform(sexIndexer.transform(maritalDescIndexer.transform(citizenDescIndexer.transform(hispanicLatinoIndexer.transform(raceDescIndexer.transform(termReasonIndexer.transform(empStatusIndexer.transform(departmentIndexer.transform(managerNameIndexer.transform(recruitSourceIndexer.transform(performanceScoreIndexer.transform(labeledData)))))))))))))\n",
    "print(indexedLabeledData)\n",
    "labeledPointData = assembler.transform(indexedLabeledData)\n",
    "labeledPointData.show()"
   ]
  },
  {
   "cell_type": "code",
   "execution_count": null,
   "metadata": {},
   "outputs": [],
   "source": []
  }
 ],
 "metadata": {
  "kernelspec": {
   "display_name": "Python 3",
   "language": "python",
   "name": "python3"
  },
  "language_info": {
   "codemirror_mode": {
    "name": "ipython",
    "version": 3
   },
   "file_extension": ".py",
   "mimetype": "text/x-python",
   "name": "python",
   "nbconvert_exporter": "python",
   "pygments_lexer": "ipython3",
   "version": "3.8.6"
  }
 },
 "nbformat": 4,
 "nbformat_minor": 4
}
